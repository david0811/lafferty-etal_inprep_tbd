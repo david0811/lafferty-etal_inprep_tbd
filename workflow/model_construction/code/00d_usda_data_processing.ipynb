{
 "cells": [
  {
   "cell_type": "code",
   "execution_count": 1,
   "id": "75e05f57-2312-48c0-8fb8-9fee4e71894e",
   "metadata": {},
   "outputs": [],
   "source": [
    "import requests\n",
    "import pandas as pd\n",
    "\n",
    "from utils import state_names, state_names_short, state_alphas"
   ]
  },
  {
   "cell_type": "markdown",
   "id": "e9bdf8ff-b2e8-4802-af68-b1d235423adf",
   "metadata": {
    "tags": []
   },
   "source": [
    "## Crop yields"
   ]
  },
  {
   "cell_type": "code",
   "execution_count": 19,
   "id": "4883c374-ae93-4501-863e-516bf172a5d1",
   "metadata": {},
   "outputs": [],
   "source": [
    "api_key = 'YOUR-API-KEY-HERE'"
   ]
  },
  {
   "cell_type": "code",
   "execution_count": 22,
   "id": "7cca5b23-c768-42b7-8cc9-5d8ad284f5df",
   "metadata": {},
   "outputs": [],
   "source": [
    "def get_crop(crop_info, states):\n",
    "    \"\"\"\n",
    "    Downloads county-level yield data from USDA NASS API for 1979 - 2020.\n",
    "    Input: crop_info = dictionary with API request information\n",
    "           states = list of U.S. state abbreviations\n",
    "    Output: pandas dataframe\n",
    "    \"\"\"\n",
    "    # Retain only these columns\n",
    "    retain_cols = ['Value', 'short_desc', 'year', 'county_code', 'state_fips_code']\n",
    "    \n",
    "    # Build API request\n",
    "    request = 'http://quickstats.nass.usda.gov/api/api_GET/?key=' + api_key + '&source_desc=SURVEY&sector_desc=CROPS&group_desc=FIELD CROPS&agg_level_desc=COUNTY&year__GE=1979&year__LE=2020'\n",
    "    for key in crop_info:\n",
    "        request += key + '=' + crop_info[key]\n",
    "    \n",
    "    # Dataframe for results\n",
    "    df_out = pd.DataFrame()\n",
    "\n",
    "    # Loop through states\n",
    "    for state in states:\n",
    "        data = requests.get(request + '&state_alpha=' + state)\n",
    "        if data.status_code == 200:\n",
    "            data = data.json()\n",
    "            data = pd.DataFrame(data[\"data\"])\n",
    "            df_out = pd.concat([df_out, data], ignore_index=True)\n",
    "\n",
    "    return df_out[retain_cols]"
   ]
  },
  {
   "cell_type": "code",
   "execution_count": 28,
   "id": "d5a3b2b8-8c82-4ec9-9744-b2278b2b890d",
   "metadata": {},
   "outputs": [
    {
     "name": "stdout",
     "output_type": "stream",
     "text": [
      "CPU times: user 11.7 s, sys: 622 ms, total: 12.3 s\n",
      "Wall time: 4min 24s\n"
     ]
    }
   ],
   "source": [
    "%%time\n",
    "############# Maize ##############\n",
    "maize_yield_request = {'&commodity_desc':'CORN', '&util_practice_desc':'GRAIN', '&statisticcat_desc':'YIELD', '&unit_desc':'BU / ACRE'}\n",
    "maize_yield_irr_request = {'&commodity_desc':'CORN', '&util_practice_desc':'GRAIN', '&statisticcat_desc':'YIELD', '&unit_desc':'BU / ACRE', '&prodn_practice_desc':'IRRIGATED'}\n",
    "maize_area_request = {'&commodity_desc':'CORN', '&util_practice_desc':'GRAIN', '&statisticcat_desc':'AREA HARVESTED'}\n",
    "maize_yield = get_crop(maize_yield_request, state_names_short)\n",
    "maize_yield_irr = get_crop(maize_yield_irr_request, state_names_short)\n",
    "maize_area = get_crop(maize_area_request, state_names_short)\n",
    "\n",
    "############## Soy ##############\n",
    "soy_yield_request = {'&commodity_desc':'SOYBEANS', '&statisticcat_desc':'YIELD', '&unit_desc':'BU / ACRE'}\n",
    "soy_yield_irr_request = {'&commodity_desc':'SOYBEANS', '&statisticcat_desc':'YIELD', '&unit_desc':'BU / ACRE', '&prodn_practice_desc':'IRRIGATED'}\n",
    "soy_area_request = {'&commodity_desc':'SOYBEANS', '&statisticcat_desc':'AREA HARVESTED'}\n",
    "soy_yield = get_crop(soy_yield_request, state_names_short)\n",
    "soy_yield_irr = get_crop(soy_yield_irr_request, state_names_short)\n",
    "soy_area = get_crop(soy_area_request, state_names_short)"
   ]
  },
  {
   "cell_type": "code",
   "execution_count": 29,
   "id": "0be56bf2-83d8-4566-a0ee-d7ff44ec0e6d",
   "metadata": {},
   "outputs": [],
   "source": [
    "def tidy_yield_area(yield_in, area_in):\n",
    "    \"\"\"\n",
    "    Merge and tidy rainfed yield and area data from USDA API\n",
    "    \"\"\"\n",
    "    yields = yield_in.copy()\n",
    "    areas = area_in.copy()\n",
    "    \n",
    "    # Yield tidy\n",
    "    yields.rename(columns = {'Value':'yield', 'state_fips_code':'state'}, inplace=True)\n",
    "    yields = yields[yields['county_code'] != '998']\n",
    "    yields['fips'] = yields['state'] + yields['county_code']\n",
    "    yields.drop(columns = ['county_code', 'short_desc'], inplace=True)\n",
    "    yields['yield'] = yields['yield'].astype(float)\n",
    "    \n",
    "    # Area tidy\n",
    "    areas.rename(columns = {'Value':'area', 'state_fips_code':'state'}, inplace=True)\n",
    "    areas = areas[areas['county_code'] != '998']\n",
    "    areas['fips'] = areas['state'] + areas['county_code']\n",
    "    areas.drop(columns = ['county_code', 'short_desc'], inplace=True)\n",
    "    areas['area'] = areas['area'].str.replace(',','').astype(float)\n",
    "    \n",
    "    # Merge\n",
    "    return pd.merge(yields.drop_duplicates(subset=['fips','year']),\n",
    "                    areas.drop_duplicates(subset=['fips','year']),\n",
    "                    on = ['fips', 'year', 'state'],\n",
    "                    how='inner')"
   ]
  },
  {
   "cell_type": "code",
   "execution_count": 30,
   "id": "a9aa832d-e35b-43eb-acc2-36ef7a567785",
   "metadata": {},
   "outputs": [
    {
     "name": "stdout",
     "output_type": "stream",
     "text": [
      "(69062, 5) (69006, 5)\n",
      "(50769, 5)\n"
     ]
    }
   ],
   "source": [
    "# Maize\n",
    "print(maize_yield.shape, maize_area.shape)\n",
    "\n",
    "maize_all = tidy_yield_area(maize_yield, maize_area)\n",
    "print(maize_all.shape)\n",
    "\n",
    "maize_all.to_csv('../input_data/usda_maize_yields_1979-2020.csv', index=False)"
   ]
  },
  {
   "cell_type": "code",
   "execution_count": 31,
   "id": "0c83d0c6-e698-4e3a-97a3-aa21c88a99b2",
   "metadata": {},
   "outputs": [
    {
     "name": "stdout",
     "output_type": "stream",
     "text": [
      "(61053, 5) (61044, 5)\n",
      "(46697, 5)\n"
     ]
    }
   ],
   "source": [
    "# Soy\n",
    "print(soy_yield.shape, soy_area.shape)\n",
    "\n",
    "soy_all = tidy_yield_area(soy_yield, soy_area)\n",
    "print(soy_all.shape)\n",
    "\n",
    "soy_all.to_csv('../input_data/usda_soy_yields_1979-2020.csv', index=False)"
   ]
  },
  {
   "cell_type": "code",
   "execution_count": 32,
   "id": "947e0343-15ee-473c-96c8-894f5bd0f1bd",
   "metadata": {},
   "outputs": [],
   "source": [
    "# Tidy irrigated yields\n",
    "def tidy_irr_yield(yield_in):\n",
    "    \"\"\"\n",
    "    Merge and tidy rainfed yield and area data from USDA API\n",
    "    \"\"\"\n",
    "    yields = yield_in.copy()\n",
    "    \n",
    "    # Yield tidy\n",
    "    yields.rename(columns = {'Value':'yield', 'state_fips_code':'state'}, inplace=True)\n",
    "    yields = yields[yields['county_code'] != '998']\n",
    "    yields['fips'] = yields['state'] + yields['county_code']\n",
    "    yields.drop(columns = ['county_code', 'short_desc'], inplace=True)\n",
    "    yields['yield'] = yields['yield'].astype(float)\n",
    "    \n",
    "    # Merge\n",
    "    return yields"
   ]
  },
  {
   "cell_type": "code",
   "execution_count": 35,
   "id": "ab5630ed-6702-47f8-b6f3-e58e3ff92b78",
   "metadata": {},
   "outputs": [
    {
     "name": "stdout",
     "output_type": "stream",
     "text": [
      "(8024, 5)\n",
      "(7303, 4)\n"
     ]
    }
   ],
   "source": [
    "# Maize\n",
    "print(maize_yield_irr.shape)\n",
    "\n",
    "maize_yield_irr_out = tidy_irr_yield(maize_yield_irr)\n",
    "print(maize_yield_irr_out.shape)\n",
    "\n",
    "maize_yield_irr_out.to_csv('../input_data/usda_maize_yields_irrigated_1979-2020.csv', index=False)"
   ]
  },
  {
   "cell_type": "code",
   "execution_count": 36,
   "id": "f21cc40c-a2ea-416f-946d-1248690151cb",
   "metadata": {},
   "outputs": [
    {
     "name": "stdout",
     "output_type": "stream",
     "text": [
      "(5755, 5)\n",
      "(5473, 4)\n"
     ]
    }
   ],
   "source": [
    "# Soy\n",
    "print(soy_yield_irr.shape)\n",
    "\n",
    "soy_yield_irr_out = tidy_irr_yield(soy_yield_irr)\n",
    "print(soy_yield_irr_out.shape)\n",
    "\n",
    "soy_yield_irr_out.to_csv('../input_data/usda_soy_yield_irrigateds_1979-2020.csv', index=False)"
   ]
  },
  {
   "cell_type": "markdown",
   "id": "069a6a48-a80c-46e9-b279-c950cfc917bf",
   "metadata": {
    "tags": []
   },
   "source": [
    "## Crop prices"
   ]
  },
  {
   "cell_type": "code",
   "execution_count": null,
   "id": "4cec0348-1438-4430-9b60-78dfff6b0fe5",
   "metadata": {},
   "outputs": [],
   "source": [
    "api_key = 'YOUR-API-KEY-HERE'"
   ]
  },
  {
   "cell_type": "code",
   "execution_count": 46,
   "id": "65906092-0993-459a-b4d4-ef6d5deb6312",
   "metadata": {},
   "outputs": [],
   "source": [
    "def tidy_prices(prices_in):\n",
    "    \"\"\"\n",
    "    Tidies national historical crop prices from USDA NASS API\n",
    "    \"\"\"\n",
    "    # Output will be pandas dataframe\n",
    "    prices_in = prices_in.json()\n",
    "    df_out = pd.DataFrame(prices_in['data'])\n",
    "    \n",
    "    # Annual prices\n",
    "    df_out = df_out[df_out['reference_period_desc'] == 'MARKETING YEAR']\n",
    "    \n",
    "    # Rename and select final columns\n",
    "    df_out['value'] = df_out['Value'].apply(lambda x: float(x))\n",
    "    df_out.rename(columns = {'value':'price', 'state_fips_code':'state'}, inplace=True)\n",
    "    \n",
    "    return df_out[['year', 'price']]"
   ]
  },
  {
   "cell_type": "code",
   "execution_count": 47,
   "id": "5d1f54ee-200f-4c44-b509-9efac5680d59",
   "metadata": {},
   "outputs": [],
   "source": [
    "# Maize\n",
    "maize_price = requests.get('http://quickstats.nass.usda.gov/api/api_GET/?key=' + api_key + '&source_desc=SURVEY&sector_desc=CROPS&group_desc=FIELD CROPS&commodity_desc=CORN' + \n",
    "                            '&statisticcat_desc=PRICE RECEIVED&unit_desc=$ / BU&agg_level_desc=NATIONAL&year__GE=1950&year__LE=2016')\n",
    "maize_price = tidy_prices(maize_price)\n",
    "\n",
    "# Soy \n",
    "soy_price = requests.get('http://quickstats.nass.usda.gov/api/api_GET/?key=' + api_key + '&source_desc=SURVEY&sector_desc=CROPS&group_desc=FIELD CROPS&commodity_desc=CORN' + \n",
    "                            '&statisticcat_desc=PRICE RECEIVED&unit_desc=$ / BU&agg_level_desc=NATIONAL&year__GE=1950&year__LE=2016')\n",
    "soy_price = tidy_prices(soy_price)"
   ]
  },
  {
   "cell_type": "code",
   "execution_count": 110,
   "id": "04c21dd6-3456-47c9-99fe-31c407df4080",
   "metadata": {},
   "outputs": [],
   "source": [
    "############################\n",
    "# Deflate with PPI data\n",
    "############################"
   ]
  },
  {
   "cell_type": "code",
   "execution_count": 51,
   "id": "dc010563-a510-4911-aeae-5261522cc182",
   "metadata": {},
   "outputs": [],
   "source": [
    "api_key = 'YOUR-API-KEY-HERE'"
   ]
  },
  {
   "cell_type": "code",
   "execution_count": 97,
   "id": "098eb3ad-4e79-4221-aae0-2758e76fb2c7",
   "metadata": {},
   "outputs": [],
   "source": [
    "##### Producer Price Index by Commodity: Farm Products\n",
    "##### Index 1982=100\n",
    "##### Not Seasonally Adjusted \n",
    "##### https://fred.stlouisfed.org/series/WPU01\n",
    "\n",
    "# HTTP request from STL FRED\n",
    "data = requests.get('https://api.stlouisfed.org/fred/series/observations?series_id=WPU01&api_key=' + api_key + '&file_type=json')\n",
    "data = data.json()\n",
    "\n",
    "# Pandas dataframe\n",
    "ppi = pd.DataFrame(data['observations'])[['date','value']]\n",
    "ppi['year'] = pd.to_datetime(ppi['date'])\n",
    "ppi['value'] = ppi['value'].astype(float)\n",
    "\n",
    "# We use annual prices\n",
    "ppi_annual = ppi.set_index('year').resample('1Y').mean()\n",
    "ppi_annual.rename(columns={'value':'ppi'}, inplace=True)\n",
    "ppi_annual.index = ppi_annual.index.year"
   ]
  },
  {
   "cell_type": "code",
   "execution_count": 105,
   "id": "a71aacb6-827f-421e-aba6-90a68d9ad403",
   "metadata": {},
   "outputs": [],
   "source": [
    "# Merge prices and adjust for inflation (set to 2018 USD)\n",
    "ppi_2018 = ppi_annual.loc[2018]['ppi']\n",
    "\n",
    "# Maize\n",
    "maize_ppi = pd.merge(maize_price, ppi_annual.reset_index(), on='year', how='inner')\n",
    "maize_ppi['price_ppi'] = maize_ppi['price'] / maize_ppi['ppi'] * ppi_2018\n",
    "maize_ppi = maize_ppi.sort_values(by='year')\n",
    "\n",
    "# Soy\n",
    "soy_ppi = pd.merge(soy_price, ppi_annual.reset_index(), on='year', how='inner')\n",
    "soy_ppi['price_ppi'] = soy_ppi['price'] / soy_ppi['ppi'] * ppi_2018\n",
    "soy_ppi = soy_ppi.sort_values(by='year')"
   ]
  },
  {
   "cell_type": "code",
   "execution_count": 189,
   "id": "e46a2ae3-6497-4300-9a5b-d25b5208905e",
   "metadata": {},
   "outputs": [],
   "source": [
    "# Store\n",
    "maize_ppi[['year', 'price', 'price_ppi']].to_csv('../input_data/usda_maize_prices_deflated_1950-2016.csv', index=False)\n",
    "soy_ppi[['year', 'price', 'price_ppi']].to_csv('../input_data/usda_soy_prices_deflated_1950-2016.csv', index=False)"
   ]
  },
  {
   "cell_type": "markdown",
   "id": "5ebb0d6d-e22f-4b70-9c22-3317c731f948",
   "metadata": {
    "tags": []
   },
   "source": [
    "## Irrigation: Water applied"
   ]
  },
  {
   "cell_type": "code",
   "execution_count": 145,
   "id": "129cf881-67f4-4146-8ac5-699f92d987a2",
   "metadata": {},
   "outputs": [],
   "source": [
    "api_key = 'YOUR-API-KEY-HERE'"
   ]
  },
  {
   "cell_type": "code",
   "execution_count": 197,
   "id": "82e2a938-7ac3-490e-a868-3d60b8ea581e",
   "metadata": {},
   "outputs": [],
   "source": [
    "def get_crop_water_applied(crop_name, states):\n",
    "    \"\"\"\n",
    "    Downloads state-level irrigation data (water applied) from USDA NASS API for 2013, 2018.\n",
    "    \"\"\"\n",
    "    # Retain only these columns\n",
    "    retain_cols = ['Value', 'short_desc', 'year', 'state_fips_code', 'state_name']\n",
    "    \n",
    "    # Build API request\n",
    "    request = 'http://quickstats.nass.usda.gov/api/api_GET/?key=' + api_key + '&source_desc=CENSUS&sector_desc=CROPS&group_desc=FIELD CROPS&agg_level_desc=STATE&commodity_desc=' + crop_name + '&statisticcat_desc=WATER APPLIED&unit_desc=ACRE FEET / ACRE&domain_desc=TOTAL'\n",
    "    \n",
    "    # Dataframe for results\n",
    "    df_out = pd.DataFrame()\n",
    "\n",
    "    # Loop through states\n",
    "    for state in states:\n",
    "        data = requests.get(request + '&state_alpha=' + state)\n",
    "        if data.status_code == 200:\n",
    "            data = data.json()\n",
    "            data = pd.DataFrame(data[\"data\"])\n",
    "            df_out = pd.concat([df_out, data], ignore_index=True)\n",
    "\n",
    "    return df_out[retain_cols]"
   ]
  },
  {
   "cell_type": "code",
   "execution_count": 192,
   "id": "2e2b03fb-8953-445e-b8e6-b83a67fc85ae",
   "metadata": {},
   "outputs": [
    {
     "name": "stdout",
     "output_type": "stream",
     "text": [
      "CPU times: user 750 ms, sys: 32.5 ms, total: 782 ms\n",
      "Wall time: 13.1 s\n"
     ]
    }
   ],
   "source": [
    "%%time\n",
    "# Maize\n",
    "maize_irr = get_crop_water_applied('CORN', state_names_short)\n",
    "\n",
    "# Soy\n",
    "soy_irr = get_crop_water_applied('SOYBEANS', state_names_short)"
   ]
  },
  {
   "cell_type": "code",
   "execution_count": 193,
   "id": "ea82bafd-d04a-4948-adf1-28936cedfa2e",
   "metadata": {},
   "outputs": [],
   "source": [
    "#################\n",
    "# Tidy and store\n",
    "#################\n",
    "\n",
    "retain_cols = ['year', 'state_fips_code', 'state_name', 'water_applied']\n",
    "\n",
    "# Maize\n",
    "maize_irr = maize_irr[maize_irr['short_desc'] == 'CORN, GRAIN, IRRIGATED - WATER APPLIED, MEASURED IN ACRE FEET / ACRE'] # subset grain for maize\n",
    "maize_irr['Value'] = maize_irr['Value'].astype(float) * 304.8 # acre-feet/acre -> mm/acre\n",
    "maize_irr.rename(columns = {'Value' : 'water_applied'}, inplace=True)\n",
    "maize_irr[retain_cols].to_csv('../input_data/usda_maize_water_applied_2013-2018.csv', index=False)\n",
    "\n",
    "# Soy\n",
    "soy_irr['Value'] = soy_irr['Value'].astype(float) * 304.8 # acre-feet/acre -> mm/acre\n",
    "soy_irr.rename(columns = {'Value' : 'water_applied'}, inplace=True)\n",
    "soy_irr[retain_cols].to_csv('../input_data/usda_soy_water_applied_2013-2018.csv', index=False)"
   ]
  },
  {
   "cell_type": "markdown",
   "id": "0aaa8e13-c884-4c78-9d8c-0902dd61153d",
   "metadata": {
    "tags": []
   },
   "source": [
    "## Irrigation: Acres harvested"
   ]
  },
  {
   "cell_type": "code",
   "execution_count": 3,
   "id": "3cb64efc-40de-4713-a71e-d766fb5be484",
   "metadata": {},
   "outputs": [],
   "source": [
    "api_key = 'YOUR-API-KEY-HERE'"
   ]
  },
  {
   "cell_type": "code",
   "execution_count": 4,
   "id": "27f2843f-7aee-4aa8-b0e4-96dcb0d07634",
   "metadata": {},
   "outputs": [],
   "source": [
    "def get_crop_irr_area(crop_name, states):\n",
    "    \"\"\"\n",
    "    Downloads county-level irrigated acreage data from USDA NASS API\n",
    "    \"\"\"\n",
    "    # Retain only these columns\n",
    "    retain_cols = ['Value', 'short_desc', 'year', 'county_code', 'state_fips_code']\n",
    "    \n",
    "    # Build API request\n",
    "    request = 'http://quickstats.nass.usda.gov/api/api_GET/?key=' + api_key + '&source_desc=CENSUS&sector_desc=CROPS&group_desc=FIELD CROPS&agg_level_desc=COUNTY&commodity_desc=' + crop_name + '&prodn_practice_desc=IRRIGATED&statisticcat_desc=AREA HARVESTED'\n",
    "    if crop_name == 'CORN':\n",
    "        request += '&util_practice_desc=GRAIN'\n",
    "    # Dataframe for results\n",
    "    df_out = pd.DataFrame()\n",
    "\n",
    "    # Loop through states\n",
    "    for state in states:\n",
    "        data = requests.get(request + '&state_alpha=' + state)\n",
    "        if data.status_code == 200:\n",
    "            data = data.json()\n",
    "            data = pd.DataFrame(data[\"data\"])\n",
    "            df_out = pd.concat([df_out, data], ignore_index=True)\n",
    "\n",
    "    return df_out[retain_cols]"
   ]
  },
  {
   "cell_type": "code",
   "execution_count": 5,
   "id": "d2845c29-a30e-4534-9af5-2b953642bf89",
   "metadata": {},
   "outputs": [
    {
     "name": "stdout",
     "output_type": "stream",
     "text": [
      "CPU times: user 1.28 s, sys: 90.4 ms, total: 1.37 s\n",
      "Wall time: 39.1 s\n"
     ]
    }
   ],
   "source": [
    "%%time\n",
    "# Maize\n",
    "maize_irr = get_crop_irr_area('CORN', state_names_short)\n",
    "\n",
    "# Soy\n",
    "soy_irr = get_crop_irr_area('SOYBEANS', state_names_short)"
   ]
  },
  {
   "cell_type": "code",
   "execution_count": 11,
   "id": "84e5783e-478c-445f-8ca1-b74590ff2f7e",
   "metadata": {},
   "outputs": [],
   "source": [
    "def str_to_float_with_excp(x):\n",
    "    try:\n",
    "        return float(x)\n",
    "    except:\n",
    "        return 0.0\n",
    "    \n",
    "def tidy_irr_area(irr_in):\n",
    "    \"\"\"\n",
    "    Tidy irrigated acreage data from USDA API\n",
    "    \"\"\"\n",
    "    irr = irr_in.copy()\n",
    "    \n",
    "    # Yield tidy\n",
    "    irr.rename(columns = {'Value':'irrigated_acreage', 'state_fips_code':'state'}, inplace=True)\n",
    "    irr = irr[irr['county_code'] != '998']\n",
    "    irr['fips'] = irr['state'] + irr['county_code']\n",
    "    irr.drop(columns = ['county_code', 'short_desc'], inplace=True)\n",
    "    irr['irrigated_acreage'] = irr['irrigated_acreage'].apply(lambda x: str_to_float_with_excp(x))\n",
    "    \n",
    "    return irr"
   ]
  },
  {
   "cell_type": "code",
   "execution_count": 17,
   "id": "4c925653-e27b-4251-bbf1-12847c11b82d",
   "metadata": {},
   "outputs": [
    {
     "name": "stdout",
     "output_type": "stream",
     "text": [
      "(8876, 5)\n",
      "(8876, 4)\n"
     ]
    }
   ],
   "source": [
    "# Maize\n",
    "print(maize_irr.shape)\n",
    "\n",
    "maize_irr_out = tidy_irr_area(maize_irr)\n",
    "print(maize_irr_out.shape)\n",
    "\n",
    "maize_irr_out.to_csv('../input_data/usda_maize_irrigated_acres_1997-2017.csv', index=False)"
   ]
  },
  {
   "cell_type": "code",
   "execution_count": 18,
   "id": "c33de9a1-7443-4928-a78d-a5575728b0fd",
   "metadata": {},
   "outputs": [
    {
     "name": "stdout",
     "output_type": "stream",
     "text": [
      "(7610, 5)\n",
      "(7610, 4)\n"
     ]
    }
   ],
   "source": [
    "# Soy\n",
    "print(soy_irr.shape)\n",
    "\n",
    "soy_irr_out = tidy_irr_area(soy_irr)\n",
    "print(soy_irr_out.shape)\n",
    "\n",
    "soy_irr_out.to_csv('../input_data/usda_soy_irrigated_acres_1997-2017.csv', index=False)"
   ]
  },
  {
   "cell_type": "code",
   "execution_count": null,
   "id": "d01840a3-848d-4e0e-9446-e6b4919d3d12",
   "metadata": {},
   "outputs": [],
   "source": []
  }
 ],
 "metadata": {
  "kernelspec": {
   "display_name": "Python 3 (ipykernel)",
   "language": "python",
   "name": "python3"
  },
  "language_info": {
   "codemirror_mode": {
    "name": "ipython",
    "version": 3
   },
   "file_extension": ".py",
   "mimetype": "text/x-python",
   "name": "python",
   "nbconvert_exporter": "python",
   "pygments_lexer": "ipython3",
   "version": "3.10.6"
  }
 },
 "nbformat": 4,
 "nbformat_minor": 5
}
