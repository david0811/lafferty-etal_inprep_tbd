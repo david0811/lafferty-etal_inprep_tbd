{
 "cells": [
  {
   "cell_type": "code",
   "execution_count": 1,
   "id": "64888434-26c4-44e7-9774-d08fe26f2b94",
   "metadata": {},
   "outputs": [
    {
     "data": {
      "text/plain": [
       "<dask.config.set at 0x2b68f66d8580>"
      ]
     },
     "execution_count": 1,
     "metadata": {},
     "output_type": "execute_result"
    }
   ],
   "source": [
    "import numpy as np\n",
    "import pandas as pd\n",
    "import xarray as xr\n",
    "import xagg as xa\n",
    "import shapely\n",
    "import geopandas as gp\n",
    "import rioxarray\n",
    "import dask\n",
    "from os.path import isfile\n",
    "from dask.distributed import Queue\n",
    "\n",
    "from utils import state_alphas\n",
    "\n",
    "import warnings\n",
    "warnings.simplefilter(\"ignore\", RuntimeWarning) # Ignore invalid arcsin() in EDD calculation\n",
    "\n",
    "dask.config.set({'array.slicing.split_large_chunks': False})"
   ]
  },
  {
   "cell_type": "markdown",
   "id": "17aee09e-d86a-4dad-a6aa-63df0b71e028",
   "metadata": {
    "tags": []
   },
   "source": [
    "## Dask (cluster)"
   ]
  },
  {
   "cell_type": "code",
   "execution_count": 33,
   "id": "56345899-7017-4bb4-b5ca-d77a84a24540",
   "metadata": {},
   "outputs": [],
   "source": [
    "from dask_jobqueue import PBSCluster\n",
    "cluster = PBSCluster(cores=1, resource_spec='pmem=20GB', memory='20GB', walltime='00:10:00')"
   ]
  },
  {
   "cell_type": "code",
   "execution_count": 34,
   "id": "56757cf8-ef45-40b0-a25e-44511a3912c6",
   "metadata": {},
   "outputs": [],
   "source": [
    "# print(cluster.job_script())"
   ]
  },
  {
   "cell_type": "code",
   "execution_count": 35,
   "id": "5c67c52f-9bf3-4505-91d6-700940817bc0",
   "metadata": {},
   "outputs": [],
   "source": [
    "cluster.scale(jobs=25)  # ask for jobs"
   ]
  },
  {
   "cell_type": "code",
   "execution_count": 36,
   "id": "7322a8b7-bb55-4111-a8aa-a18cc6ea8698",
   "metadata": {},
   "outputs": [],
   "source": [
    "from dask.distributed import Client\n",
    "client = Client(cluster)"
   ]
  },
  {
   "cell_type": "code",
   "execution_count": 37,
   "id": "4f2606f3-a7a5-482e-a41f-9963d647e4ea",
   "metadata": {},
   "outputs": [
    {
     "data": {
      "text/html": [
       "<div>\n",
       "    <div style=\"width: 24px; height: 24px; background-color: #e1e1e1; border: 3px solid #9D9D9D; border-radius: 5px; position: absolute;\"> </div>\n",
       "    <div style=\"margin-left: 48px;\">\n",
       "        <h3 style=\"margin-bottom: 0px;\">Client</h3>\n",
       "        <p style=\"color: #9D9D9D; margin-bottom: 0px;\">Client-a4ff2245-35de-11ed-aa7f-34e6d79eac77</p>\n",
       "        <table style=\"width: 100%; text-align: left;\">\n",
       "\n",
       "        <tr>\n",
       "        \n",
       "            <td style=\"text-align: left;\"><strong>Connection method:</strong> Cluster object</td>\n",
       "            <td style=\"text-align: left;\"><strong>Cluster type:</strong> dask_jobqueue.PBSCluster</td>\n",
       "        \n",
       "        </tr>\n",
       "\n",
       "        \n",
       "            <tr>\n",
       "                <td style=\"text-align: left;\">\n",
       "                    <strong>Dashboard: </strong> <a href=\"/proxy/8787/status\" target=\"_blank\">/proxy/8787/status</a>\n",
       "                </td>\n",
       "                <td style=\"text-align: left;\"></td>\n",
       "            </tr>\n",
       "        \n",
       "\n",
       "        </table>\n",
       "\n",
       "        \n",
       "            <details>\n",
       "            <summary style=\"margin-bottom: 20px;\"><h3 style=\"display: inline;\">Cluster Info</h3></summary>\n",
       "            <div class=\"jp-RenderedHTMLCommon jp-RenderedHTML jp-mod-trusted jp-OutputArea-output\">\n",
       "    <div style=\"width: 24px; height: 24px; background-color: #e1e1e1; border: 3px solid #9D9D9D; border-radius: 5px; position: absolute;\">\n",
       "    </div>\n",
       "    <div style=\"margin-left: 48px;\">\n",
       "        <h3 style=\"margin-bottom: 0px; margin-top: 0px;\">PBSCluster</h3>\n",
       "        <p style=\"color: #9D9D9D; margin-bottom: 0px;\">9dc125fd</p>\n",
       "        <table style=\"width: 100%; text-align: left;\">\n",
       "            <tr>\n",
       "                <td style=\"text-align: left;\">\n",
       "                    <strong>Dashboard:</strong> <a href=\"/proxy/8787/status\" target=\"_blank\">/proxy/8787/status</a>\n",
       "                </td>\n",
       "                <td style=\"text-align: left;\">\n",
       "                    <strong>Workers:</strong> 0\n",
       "                </td>\n",
       "            </tr>\n",
       "            <tr>\n",
       "                <td style=\"text-align: left;\">\n",
       "                    <strong>Total threads:</strong> 0\n",
       "                </td>\n",
       "                <td style=\"text-align: left;\">\n",
       "                    <strong>Total memory:</strong> 0 B\n",
       "                </td>\n",
       "            </tr>\n",
       "            \n",
       "        </table>\n",
       "\n",
       "        <details>\n",
       "            <summary style=\"margin-bottom: 20px;\">\n",
       "                <h3 style=\"display: inline;\">Scheduler Info</h3>\n",
       "            </summary>\n",
       "\n",
       "            <div style=\"\">\n",
       "    <div>\n",
       "        <div style=\"width: 24px; height: 24px; background-color: #FFF7E5; border: 3px solid #FF6132; border-radius: 5px; position: absolute;\"> </div>\n",
       "        <div style=\"margin-left: 48px;\">\n",
       "            <h3 style=\"margin-bottom: 0px;\">Scheduler</h3>\n",
       "            <p style=\"color: #9D9D9D; margin-bottom: 0px;\">Scheduler-91c9ce68-bc96-4158-b2a4-681c61cfd577</p>\n",
       "            <table style=\"width: 100%; text-align: left;\">\n",
       "                <tr>\n",
       "                    <td style=\"text-align: left;\">\n",
       "                        <strong>Comm:</strong> tcp://10.102.201.239:36912\n",
       "                    </td>\n",
       "                    <td style=\"text-align: left;\">\n",
       "                        <strong>Workers:</strong> 0\n",
       "                    </td>\n",
       "                </tr>\n",
       "                <tr>\n",
       "                    <td style=\"text-align: left;\">\n",
       "                        <strong>Dashboard:</strong> <a href=\"/proxy/8787/status\" target=\"_blank\">/proxy/8787/status</a>\n",
       "                    </td>\n",
       "                    <td style=\"text-align: left;\">\n",
       "                        <strong>Total threads:</strong> 0\n",
       "                    </td>\n",
       "                </tr>\n",
       "                <tr>\n",
       "                    <td style=\"text-align: left;\">\n",
       "                        <strong>Started:</strong> Just now\n",
       "                    </td>\n",
       "                    <td style=\"text-align: left;\">\n",
       "                        <strong>Total memory:</strong> 0 B\n",
       "                    </td>\n",
       "                </tr>\n",
       "            </table>\n",
       "        </div>\n",
       "    </div>\n",
       "\n",
       "    <details style=\"margin-left: 48px;\">\n",
       "        <summary style=\"margin-bottom: 20px;\">\n",
       "            <h3 style=\"display: inline;\">Workers</h3>\n",
       "        </summary>\n",
       "\n",
       "        \n",
       "\n",
       "    </details>\n",
       "</div>\n",
       "\n",
       "        </details>\n",
       "    </div>\n",
       "</div>\n",
       "            </details>\n",
       "        \n",
       "\n",
       "    </div>\n",
       "</div>"
      ],
      "text/plain": [
       "<Client: 'tcp://10.102.201.239:36912' processes=0 threads=0, memory=0 B>"
      ]
     },
     "execution_count": 37,
     "metadata": {},
     "output_type": "execute_result"
    }
   ],
   "source": [
    "client"
   ]
  },
  {
   "cell_type": "markdown",
   "id": "f2631fe1-3e25-4be2-9bc7-617a12d78adf",
   "metadata": {
    "jp-MarkdownHeadingCollapsed": true,
    "tags": []
   },
   "source": [
    "## Function definitions"
   ]
  },
  {
   "cell_type": "code",
   "execution_count": null,
   "id": "0a56b78c-868c-4ba1-bc22-bc90825a3b4a",
   "metadata": {},
   "outputs": [],
   "source": [
    "# Degree day function\n",
    "def above_threshold_each(mins, maxs, threshold):\n",
    "    \"\"\"Use a sinusoidal approximation to estimate the number of Growing\n",
    "    Degree-Days above a given threshold, using daily minimum and maximum\n",
    "    temperatures.\n",
    "    mins and maxs are numpy arrays; threshold is in the same units.\"\"\"\n",
    "\n",
    "    \"\"\"\n",
    "    Code from James Rising (https://github.com/jrising/research-common/blob/master/python/gdd.py)\n",
    "    \"\"\"\n",
    "\n",
    "    # Determine crossing points, as a fraction of the day\n",
    "    plus_over_2 = (mins + maxs)/2\n",
    "    minus_over_2 = (maxs - mins)/2\n",
    "    two_pi = 2*np.pi\n",
    "    # d0s is the times of crossing above; d1s is when cross below\n",
    "    d0s = np.arcsin((threshold - plus_over_2) / minus_over_2) / two_pi\n",
    "    d1s = .5 - d0s\n",
    "\n",
    "    # If always above or below threshold, set crossings accordingly\n",
    "    aboves = mins >= threshold\n",
    "    belows = maxs <= threshold\n",
    "\n",
    "    d0s[aboves] = 0\n",
    "    d1s[aboves] = 1\n",
    "    d0s[belows] = 0\n",
    "    d1s[belows] = 0\n",
    "\n",
    "    # Calculate integral\n",
    "    F1s = -minus_over_2 * np.cos(2*np.pi*d1s) / two_pi + plus_over_2 * d1s\n",
    "    F0s = -minus_over_2 * np.cos(2*np.pi*d0s) / two_pi + plus_over_2 * d0s\n",
    "    return F1s - F0s - threshold * (d1s - d0s)\n",
    "\n",
    "# ufunc for dask\n",
    "def edd_ufunc_annual(tasmin, tasmax, threshold):\n",
    "    return xr.apply_ufunc(above_threshold_each,\n",
    "                          tasmin, tasmax, threshold,\n",
    "                          dask = 'allowed')"
   ]
  },
  {
   "cell_type": "code",
   "execution_count": 8,
   "id": "57925d40-645c-43c3-a43b-2e1a41ca96ff",
   "metadata": {},
   "outputs": [],
   "source": [
    "def calculate_predictors(ds_tmin, ds_tmax, ds_prcp, T_thresh, product_name, timeperiod):\n",
    "    \"\"\"\n",
    "    Calculates local climate variables:\n",
    "        tavg: average temperature\n",
    "        GDD: growing degree days\n",
    "        EDD: extreme degree days\n",
    "        prcp: precipitation sum (mm)\n",
    "    \"\"\"\n",
    "    # Calculate daily EDD\n",
    "    EDD = edd_ufunc_annual(ds_tmin, ds_tmax, threshold = T_thresh[1])\n",
    "    \n",
    "    # Calculate daily GDD\n",
    "    GDD = edd_ufunc_annual(ds_tmin, ds_tmax, threshold = T_thresh[0])\n",
    "    GDD = GDD - EDD\n",
    "    \n",
    "    # Combine\n",
    "    ds_out = xr.combine_by_coords([EDD.to_dataset(name='EDD'),\n",
    "                              GDD.to_dataset(name='GDD')])\n",
    "    \n",
    "    # Annual degree days\n",
    "    ds_out = ds_out.resample(day='Y').sum().compute()\n",
    "    \n",
    "    # Annual tavg\n",
    "    ds_tavg = (ds_tmax + ds_tmin) / 2.\n",
    "    ds_out['tavg'] = ds_tavg.resample(day='Y').mean().compute()\n",
    "\n",
    "    # Precip annual total\n",
    "    ds_out['prcp'] = ds_prcp.resample(day='Y').sum().compute()\n",
    "    ds_out['prcp2'] = (ds_prcp**2).resample(day='Y').sum().compute()\n",
    "    \n",
    "    # Tidy\n",
    "    ds_out.attrs['NOTE1'] = 'Degree Days calculated as in DOI: 10.1111/agec.12315 supplementary material with threshold 30C. Author: David Lafferty - University of Illinois (davidcl2@illinois.edu)'\n",
    "    ds_out.attrs['NOTE2'] = 'For original netcdf files see: https://www.climatologylab.org/gridmet.html'\n",
    "    \n",
    "    # Save\n",
    "    ds_out.to_netcdf('../input_data/' + product_name + '_weather_variables_' + timeperiod + '.nc')"
   ]
  },
  {
   "cell_type": "markdown",
   "id": "a5db7660-d2d9-428f-83b2-f604c0898699",
   "metadata": {
    "jp-MarkdownHeadingCollapsed": true,
    "tags": []
   },
   "source": [
    "## Prerequisite: tidy US shapefiles"
   ]
  },
  {
   "cell_type": "code",
   "execution_count": 8,
   "id": "70bd7385-0d7e-42c8-9580-6e1eefe2f02d",
   "metadata": {},
   "outputs": [],
   "source": [
    "# County shapefile\n",
    "county_gdf = gp.read_file('../input_data/us_county_shp/cb_2018_us_county_20m.shp')\n",
    "county_gdf.rename(columns={'GEOID':'fips', 'STATEFP':'state'}, inplace=True)\n",
    "county_gdf = county_gdf[~county_gdf['state'].isin(['02', '15', '60', '66', '69', '72', '78'])] # remove non-contiguous\n",
    "\n",
    "county_gdf[['fips', 'state', 'geometry']].to_file('../input_data/us_county_shp/us_county_shape.shp')"
   ]
  },
  {
   "cell_type": "code",
   "execution_count": 13,
   "id": "d25a0d00-fa12-4d8b-bb83-6f0f4095fc93",
   "metadata": {},
   "outputs": [],
   "source": [
    "# State shapefile\n",
    "state_gdf = gp.read_file('../input_data/us_state_shp/cb_2018_us_state_20m.shp')\n",
    "state_gdf.rename(columns={'STATEFP':'state'}, inplace=True)\n",
    "state_gdf = state_gdf[~state_gdf['state'].isin(['02', '15', '60', '66', '69', '72', '78'])] # remove non-contiguous\n",
    "\n",
    "state_gdf[['state', 'geometry']].to_file('../input_data/us_state_shp/us_state_shape.shp')"
   ]
  },
  {
   "cell_type": "markdown",
   "id": "04df80bc-4f6a-4c93-86e4-2fc0b30d313b",
   "metadata": {
    "jp-MarkdownHeadingCollapsed": true,
    "tags": []
   },
   "source": [
    "# GMFD"
   ]
  },
  {
   "cell_type": "markdown",
   "id": "e23d586f-a3fc-4adf-ae54-49f5819ff10d",
   "metadata": {
    "tags": []
   },
   "source": [
    "## Calculate Midwest average temperature"
   ]
  },
  {
   "cell_type": "code",
   "execution_count": 7,
   "id": "12e1c7f2-d5dc-4449-9bc6-b8d9732eb1c6",
   "metadata": {},
   "outputs": [],
   "source": [
    "# Midwest shapefile\n",
    "gdf = gp.read_file('../input_data/us_state_shp/us_state_shape.shp')\n",
    "gdf_mw = gdf[gdf['state'].isin(state_alphas)]"
   ]
  },
  {
   "cell_type": "code",
   "execution_count": 26,
   "id": "de279fec-bc37-4260-a8df-3677605f99fb",
   "metadata": {},
   "outputs": [
    {
     "name": "stdout",
     "output_type": "stream",
     "text": [
      "CPU times: user 15.3 s, sys: 578 ms, total: 15.9 s\n",
      "Wall time: 52.2 s\n"
     ]
    }
   ],
   "source": [
    "%%time\n",
    "# Read GMFD\n",
    "ds = xr.open_mfdataset('../input_data/gmfd_raw/*.nc', chunks='auto', parallel=True)\n",
    "# ds = xr.open_mfdataset('/gpfs/group/kaf26/default/dcl5300/gmfd_tas/*.nc', chunks='auto', parallel=True)\n",
    "\n",
    "# Subset to US\n",
    "ds['lon'] = ds['lon'] - 360.\n",
    "ds = ds.where((ds.lat > 20) & (ds.lat < 60) & (ds.lon < -60) & (ds.lon > -130), drop=True)\n",
    "\n",
    "# Calculate average growing season temperature\n",
    "ds = ds.sel(time=ds.time.dt.month.isin([4, 5, 6, 7, 8, 9]))\n",
    "ds = ds.resample(time='Y').mean().compute()"
   ]
  },
  {
   "cell_type": "code",
   "execution_count": 30,
   "id": "62a5f16f-50d8-4589-bd59-75069e18575a",
   "metadata": {},
   "outputs": [
    {
     "name": "stderr",
     "output_type": "stream",
     "text": [
      "/storage/home/d/dcl5300/work/ENVS/climate-stack/lib/python3.10/site-packages/rasterio/features.py:288: ShapelyDeprecationWarning: Iteration over multi-part geometries is deprecated and will be removed in Shapely 2.0. Use the `geoms` property to access the constituent parts of a multi-part geometry.\n",
      "  for index, item in enumerate(shapes):\n"
     ]
    }
   ],
   "source": [
    "# Clip to Midwest\n",
    "ds = ds.rio.write_crs(gdf_mw.crs)\n",
    "ds = ds.rio.set_spatial_dims(x_dim='lon', y_dim='lat')\n",
    "ds_mw = ds.rio.clip(gdf_mw.unary_union)"
   ]
  },
  {
   "cell_type": "code",
   "execution_count": 44,
   "id": "038a0095-d679-486e-b869-8111e4f4c724",
   "metadata": {},
   "outputs": [],
   "source": [
    "# Get spatial average\n",
    "ds_mw_mean = ds['tas'].mean(dim=['lat','lon'])\n",
    "\n",
    "# Store\n",
    "df_out = pd.DataFrame({'tavg_mw':ds_mw_mean.to_pandas()}).reset_index()\n",
    "df_out['year'] = df_out['time'].dt.year\n",
    "df_out['tavg_mw'] = df_out['tavg_mw'] - 273.15 # K -> C\n",
    "df_out[['year', 'tavg_mw']].to_csv('../input_data/gmfd_midwest_tavg_1948-2016.csv', index=False)"
   ]
  },
  {
   "cell_type": "markdown",
   "id": "ea5fa809-e577-454a-a3dd-cf9a0cb900d2",
   "metadata": {},
   "source": [
    "# gridMET"
   ]
  },
  {
   "cell_type": "markdown",
   "id": "aaca532c-ed03-4a47-abeb-fcffc731ad9a",
   "metadata": {
    "tags": []
   },
   "source": [
    "## Calculate local variables at the grid point scale"
   ]
  },
  {
   "cell_type": "code",
   "execution_count": 9,
   "id": "5d8d554b-9251-4dce-8199-43f675e39c84",
   "metadata": {},
   "outputs": [],
   "source": [
    "yrs = np.arange(1979, 2021)\n",
    "path = '../input_data/gridmet_raw/'\n",
    "\n",
    "# path1 = '/gpfs/group/kzk10/default/public/UofI_MetData/raw/'\n",
    "# path2 = '/gpfs/group/kaf26/default/dcl5300/gridMET_2019-2020/'"
   ]
  },
  {
   "cell_type": "code",
   "execution_count": null,
   "id": "d1927f3f-a272-4175-a948-2d97e6a13b1f",
   "metadata": {},
   "outputs": [],
   "source": [
    "%%time\n",
    "# Read in variables\n",
    "ds_tmax = xr.open_mfdataset([path + 'tmmx_' + str(yr) + '.nc' for yr in yrs], chunks='auto', parallel=True)['air_temperature']\n",
    "ds_tmin = xr.open_mfdataset([path + 'tmmn_' + str(yr) + '.nc' for yr in yrs], chunks='auto', parallel=True)['air_temperature']\n",
    "ds_prcp = xr.open_mfdataset([path + 'pr_' + str(yr) + '.nc' for yr in yrs], chunks='auto', parallel=True)['precipitation_amount']"
   ]
  },
  {
   "cell_type": "code",
   "execution_count": 11,
   "id": "b1aa5cca-4a3d-4702-8ab0-1fce5ac3bdc8",
   "metadata": {},
   "outputs": [
    {
     "name": "stdout",
     "output_type": "stream",
     "text": [
      "CPU times: user 7.86 s, sys: 734 ms, total: 8.59 s\n",
      "Wall time: 1min 49s\n"
     ]
    }
   ],
   "source": [
    "# %%time\n",
    "# # Sort lat index and drop crs\n",
    "# def preprocess(ds):\n",
    "#     return ds.sortby('lat').drop_vars('crs')\n",
    "\n",
    "# # Read in variables\n",
    "# tmax_paths = [path1 + 'tmmx_' + str(yr) + '.nc' for yr in yrs[:-2]] + [path2 + 'tmmx_' + str(yr) + '.nc' for yr in yrs[-2:]]\n",
    "# ds_tmax = xr.open_mfdataset(tmax_paths, preprocess=preprocess, chunks='auto', parallel=True)['air_temperature']\n",
    "\n",
    "# tmin_paths = [path1 + 'tmmn_' + str(yr) + '.nc' for yr in yrs[:-2]] + [path2 + 'tmmn_' + str(yr) + '.nc' for yr in yrs[-2:]]\n",
    "# ds_tmin = xr.open_mfdataset(tmin_paths, preprocess=preprocess, chunks='auto', parallel=True)['air_temperature']\n",
    "\n",
    "# prcp_paths = [path1 + 'pr_' + str(yr) + '.nc' for yr in yrs[:-2]] + [path2 + 'pr_' + str(yr) + '.nc' for yr in yrs[-2:]]\n",
    "# ds_prcp = xr.open_mfdataset(prcp_paths, preprocess=preprocess, chunks='auto', parallel=True)['precipitation_amount']"
   ]
  },
  {
   "cell_type": "code",
   "execution_count": 12,
   "id": "150adc3a-e7d3-4167-bb32-f36f05619325",
   "metadata": {},
   "outputs": [],
   "source": [
    "# Maize/soy growing season: April - September\n",
    "ds_tmax = ds_tmax.sel(day=ds_tmax.day.dt.month.isin([4, 5, 6, 7, 8, 9]))\n",
    "ds_tmin = ds_tmin.sel(day=ds_tmin.day.dt.month.isin([4, 5, 6, 7, 8, 9]))\n",
    "ds_prcp = ds_prcp.sel(day=ds_prcp.day.dt.month.isin([4, 5, 6, 7, 8, 9]))"
   ]
  },
  {
   "cell_type": "code",
   "execution_count": 13,
   "id": "ffc2e0df-d2b3-43b9-89df-e0ae384b6add",
   "metadata": {},
   "outputs": [
    {
     "name": "stdout",
     "output_type": "stream",
     "text": [
      "CPU times: user 4min 42s, sys: 15.8 s, total: 4min 58s\n",
      "Wall time: 21min 53s\n"
     ]
    }
   ],
   "source": [
    "%%time\n",
    "# Calculate predictors\n",
    "calculate_predictors(ds_tmin, ds_tmax, ds_prcp, [10.0 + 273.15, 30.0 + 273.15], 'gridmet', '1979-2020')"
   ]
  },
  {
   "cell_type": "markdown",
   "id": "1e2ecf06-d59b-4e35-8dc0-058292681fe8",
   "metadata": {},
   "source": [
    "## Calculate Midwest average temperature"
   ]
  },
  {
   "cell_type": "code",
   "execution_count": 38,
   "id": "1bc56ec4-ff87-48bd-a759-036512f7b497",
   "metadata": {},
   "outputs": [],
   "source": [
    "# Midwest shapefile\n",
    "gdf = gp.read_file('../input_data/us_state_shp/us_state_shape.shp')\n",
    "gdf_mw = gdf[gdf['state'].isin(state_alphas)]"
   ]
  },
  {
   "cell_type": "code",
   "execution_count": 39,
   "id": "929c92cd-bf6f-4602-b36f-663fff244a08",
   "metadata": {},
   "outputs": [],
   "source": [
    "yrs = np.arange(1979, 2021)\n",
    "path = '../input_data/gridmet_raw/'\n",
    "\n",
    "path1 = '/gpfs/group/kzk10/default/public/UofI_MetData/raw/'\n",
    "path2 = '/gpfs/group/kaf26/default/dcl5300/gridMET_2019-2020/'"
   ]
  },
  {
   "cell_type": "code",
   "execution_count": null,
   "id": "cf2dcaf0-aae3-4de0-bea9-dec8d439aad8",
   "metadata": {},
   "outputs": [],
   "source": [
    "%%time\n",
    "# Read in variables\n",
    "ds_tmax = xr.open_mfdataset([path + 'tmmx_' + str(yr) + '.nc' for yr in yrs], chunks='auto', parallel=True)['air_temperature']\n",
    "ds_tmin = xr.open_mfdataset([path + 'tmmn_' + str(yr) + '.nc' for yr in yrs], chunks='auto', parallel=True)['air_temperature']"
   ]
  },
  {
   "cell_type": "code",
   "execution_count": 40,
   "id": "61ac7adf-aed4-440d-845a-e35046dfedbd",
   "metadata": {},
   "outputs": [
    {
     "name": "stdout",
     "output_type": "stream",
     "text": [
      "CPU times: user 8.62 s, sys: 731 ms, total: 9.35 s\n",
      "Wall time: 1min 32s\n"
     ]
    }
   ],
   "source": [
    "%%time\n",
    "def preprocess(ds):\n",
    "    return ds.sortby('lat').drop_vars('crs')\n",
    "\n",
    "# Read in variables\n",
    "tmax_paths = [path1 + 'tmmx_' + str(yr) + '.nc' for yr in yrs[:-2]] + [path2 + 'tmmx_' + str(yr) + '.nc' for yr in yrs[-2:]]\n",
    "ds_tmax = xr.open_mfdataset(tmax_paths, preprocess=preprocess, chunks='auto', parallel=True)['air_temperature']\n",
    "\n",
    "tmin_paths = [path1 + 'tmmn_' + str(yr) + '.nc' for yr in yrs[:-2]] + [path2 + 'tmmn_' + str(yr) + '.nc' for yr in yrs[-2:]]\n",
    "ds_tmin = xr.open_mfdataset(tmin_paths, preprocess=preprocess, chunks='auto', parallel=True)['air_temperature']"
   ]
  },
  {
   "cell_type": "code",
   "execution_count": 46,
   "id": "2e33633b-33b9-4f3f-abfa-196184e405b3",
   "metadata": {},
   "outputs": [],
   "source": [
    "# Get tas\n",
    "ds = (ds_tmax + ds_tmin) / 2.\n",
    "\n",
    "# Calculate average growing season temperature\n",
    "ds = ds.sel(day=ds.day.dt.month.isin([4, 5, 6, 7, 8, 9]))\n",
    "ds = ds.resample(day='Y').mean().compute()"
   ]
  },
  {
   "cell_type": "code",
   "execution_count": 48,
   "id": "e43464fe-00c2-484f-bf6a-8f46af8b4150",
   "metadata": {},
   "outputs": [
    {
     "name": "stderr",
     "output_type": "stream",
     "text": [
      "/storage/home/d/dcl5300/work/ENVS/climate-stack/lib/python3.10/site-packages/rasterio/features.py:288: ShapelyDeprecationWarning: Iteration over multi-part geometries is deprecated and will be removed in Shapely 2.0. Use the `geoms` property to access the constituent parts of a multi-part geometry.\n",
      "  for index, item in enumerate(shapes):\n"
     ]
    }
   ],
   "source": [
    "# Clip to Midwest\n",
    "ds = ds.rio.write_crs(gdf_mw.crs)\n",
    "ds = ds.rio.set_spatial_dims(x_dim='lon', y_dim='lat')\n",
    "ds_mw = ds.rio.clip(gdf_mw.unary_union)"
   ]
  },
  {
   "cell_type": "code",
   "execution_count": 49,
   "id": "dcfb4cb2-a1bd-452c-8599-b78b957eeb1a",
   "metadata": {},
   "outputs": [],
   "source": [
    "# Get spatial average\n",
    "ds_mw_mean = ds.mean(dim=['lat','lon'])\n",
    "\n",
    "# Store\n",
    "df_out = pd.DataFrame({'tavg_mw':ds_mw_mean.to_pandas()}).reset_index()\n",
    "df_out['year'] = df_out['day'].dt.year\n",
    "df_out['tavg_mw'] = df_out['tavg_mw'] - 273.15 # K -> C\n",
    "df_out[['year', 'tavg_mw']].to_csv('../input_data/gridmet_midwest_tavg_1979-2020.csv', index=False)"
   ]
  },
  {
   "cell_type": "markdown",
   "id": "c6fb3866-9834-4493-9218-149c9c0a335f",
   "metadata": {
    "tags": []
   },
   "source": [
    "## Aggregate to county level (no weighting)"
   ]
  },
  {
   "cell_type": "code",
   "execution_count": 7,
   "id": "54f5ccf8-5a71-4ade-bbc0-fcb3fc8264ca",
   "metadata": {},
   "outputs": [],
   "source": [
    "# Get unique fips codes\n",
    "maize_fips = pd.read_csv('../input_data/usda_maize_yields_1979-2020.csv')['fips'].astype(str).str.zfill(5).to_numpy()\n",
    "soy_fips = pd.read_csv('../input_data/usda_soy_yields_1979-2020.csv')['fips'].astype(str).str.zfill(5).to_numpy()\n",
    "\n",
    "gdf_fips = gp.read_file('/storage/home/dcl5300/work/lafferty-etal_inprep_tbd/workflow/model_construction/input_data/us_county_shp/us_county_shape.shp')['fips']\n",
    "\n",
    "ufips = np.unique(np.append(maize_fips, soy_fips))\n",
    "ufips = np.intersect1d(ufips, gdf_fips)"
   ]
  },
  {
   "cell_type": "code",
   "execution_count": 12,
   "id": "e089b5fc-8e2e-426f-9323-9b6187a7cd63",
   "metadata": {},
   "outputs": [],
   "source": [
    "# Aggregation function for dask delayed\n",
    "def func_agg(fips):\n",
    "    \"\"\"\n",
    "    Aggregates local variables from gridmet to the county level without weighting\n",
    "    \"\"\"\n",
    "    # Shapefile and county bounds\n",
    "    # gdf = gp.read_file('../input_data/us_county_shp/us_county_shape.shp')\n",
    "    gdf = gp.read_file('/storage/home/dcl5300/work/lafferty-etal_inprep_tbd/workflow/model_construction/input_data/us_county_shp/us_county_shape.shp')\n",
    "    gdf = gdf.to_crs('WGS 84')\n",
    "    gdf_fips = gdf[gdf['fips'] == fips]\n",
    "    xmin, ymin, xmax, ymax = gdf_fips.geometry.total_bounds\n",
    "    \n",
    "    # Local variables\n",
    "    # ds = xr.open_dataset('../input_data/gridmet_weather_variables_1979-2020.nc')\n",
    "    ds = xr.open_dataset('/storage/home/dcl5300/work/lafferty-etal_inprep_tbd/workflow/model_construction/input_data/gridmet_weather_variables_1979-2020.nc')\n",
    "    ds = ds.where((ds.lat >= ymin) & (ds.lat <= ymax) & (\n",
    "            ds.lon >= xmin) & (ds.lon <= xmax), drop=True)\n",
    "        \n",
    "    # Aggregate\n",
    "    weightmap = xa.pixel_overlaps(ds, gdf_fips)\n",
    "    aggregated = xa.aggregate(ds, weightmap).to_dataframe()\n",
    "    \n",
    "    # Format\n",
    "    vars_to_keep = ['EDD', 'GDD', 'tavg', 'prcp', 'prcp2', 'day']\n",
    "    out = pd.DataFrame(aggregated.reset_index()[vars_to_keep])\n",
    "    out['year'] = out['day'].dt.year\n",
    "    out['fips'] = fips\n",
    "    out['tavg'] = out['tavg'] - 273.15 # K -> C\n",
    "\n",
    "    # Otherwise workers will store for each county\n",
    "    del ds\n",
    "    del gdf\n",
    "    del gdf_fips\n",
    "    del weightmap\n",
    "    del aggregated\n",
    "    \n",
    "    return out[['fips', 'year', 'EDD', 'GDD', 'tavg', 'prcp', 'prcp2']]"
   ]
  },
  {
   "cell_type": "code",
   "execution_count": 9,
   "id": "be02535b-f802-4b5b-b231-1a10b29a2d0b",
   "metadata": {},
   "outputs": [
    {
     "name": "stdout",
     "output_type": "stream",
     "text": [
      "CPU times: user 33.9 s, sys: 1.63 s, total: 35.5 s\n",
      "Wall time: 3min 53s\n"
     ]
    }
   ],
   "source": [
    "%%time\n",
    "# Parallelize\n",
    "delayed_res = []\n",
    "for fips in ufips:\n",
    "    tmp_agg = dask.delayed(func_agg)(fips)\n",
    "    delayed_res.append(tmp_agg)\n",
    "    \n",
    "# Run\n",
    "res = dask.compute(*delayed_res)\n",
    "\n",
    "# Store dataframe\n",
    "df_res = pd.concat(res)\n",
    "df_res.to_csv('../input_data/gridmet_county_weather_variables_1979-2020.csv', index=False)"
   ]
  },
  {
   "cell_type": "markdown",
   "id": "c7abecf9-554c-4a02-958c-24ea93b65c52",
   "metadata": {
    "jp-MarkdownHeadingCollapsed": true,
    "tags": []
   },
   "source": [
    "## Aggregate to state level (weighted by irrigated acreage)"
   ]
  },
  {
   "cell_type": "code",
   "execution_count": 21,
   "id": "c0be9643-6413-4b78-a93f-03f2c1161cc3",
   "metadata": {},
   "outputs": [],
   "source": [
    "# Irrigated areas\n",
    "maize_irr = pd.read_csv('../input_data/usda_maize_irrigated_acres_1997-2017.csv')\n",
    "maize_irr['fips'] = maize_irr['fips'].astype(str).str.zfill(5)\n",
    "maize_irr['state'] = maize_irr['state'].astype(str).str.zfill(2)\n",
    "\n",
    "soy_irr = pd.read_csv('../input_data/usda_soy_irrigated_acres_1997-2017.csv')\n",
    "soy_irr['fips'] = soy_irr['fips'].astype(str).str.zfill(5)\n",
    "soy_irr['state'] = soy_irr['state'].astype(str).str.zfill(2)"
   ]
  },
  {
   "cell_type": "code",
   "execution_count": 22,
   "id": "c27e4cc2-235d-4eb9-8bed-4ac58d407a2f",
   "metadata": {},
   "outputs": [],
   "source": [
    "##########################################################################################\n",
    "# We assume the irrigated areas in 2012, 2017 are transferrable to 2013, 2018\n",
    "# which is what we need for combining with the USDA Irrigation & Water Management Survey\n",
    "##########################################################################################\n",
    "maize_irr_shifted = maize_irr.copy()\n",
    "maize_irr_shifted['year'] = maize_irr_shifted['year'] + 1\n",
    "maize_irr_shifted = maize_irr_shifted[maize_irr_shifted['year'] >= 2013]\n",
    "\n",
    "soy_irr_shifted = soy_irr.copy()\n",
    "soy_irr_shifted['year'] = soy_irr_shifted['year'] + 1\n",
    "soy_irr_shifted = soy_irr_shifted[soy_irr_shifted['year'] >= 2013]"
   ]
  },
  {
   "cell_type": "code",
   "execution_count": 24,
   "id": "0827e04c-04d2-4077-8760-3066e0f80bd1",
   "metadata": {},
   "outputs": [],
   "source": [
    "# County local climate variables\n",
    "gridmet_weather_vars = pd.read_csv('../input_data/gridmet_county_weather_variables_1979-2020.csv')\n",
    "gridmet_weather_vars['fips'] = gridmet_weather_vars['fips'].astype(str).str.zfill(5)"
   ]
  },
  {
   "cell_type": "code",
   "execution_count": 27,
   "id": "58b0b258-98b4-4e04-9101-d3379efd4c06",
   "metadata": {},
   "outputs": [],
   "source": [
    "# Merge\n",
    "maize_irr_weather_vars = pd.merge(gridmet_weather_vars, maize_irr_shifted, on=['fips','year'])\n",
    "soy_irr_weather_vars = pd.merge(gridmet_weather_vars, soy_irr_shifted, on=['fips','year'])"
   ]
  },
  {
   "cell_type": "code",
   "execution_count": 29,
   "id": "762c5955-e90f-4cec-bbe3-24c10e398e43",
   "metadata": {},
   "outputs": [],
   "source": [
    "# Take weighted sum to state level \n",
    "def weighted_average(df, col):\n",
    "    return pd.DataFrame({col : df.groupby(['state','year']).apply(lambda x: np.average(x[col], weights=x['irrigated_acreage']))})"
   ]
  },
  {
   "cell_type": "markdown",
   "id": "57206482-a533-4ca9-be92-d36659edb54b",
   "metadata": {},
   "source": [
    "Note that here we have averaged the weather variables to the county level and now are taking a weighted average of that to the state level, i.e. we are taking an average of averages. This will introduce some bias since the number of grid points in each county is unequal since counties are not of equal spatial size. Ideally we would account for this in the weighting for the second average but we choose to neglect since (1) the bias should be small since county sizes are typically the same order of magnitude and (2) the weighting we apply (irrigated acreage) is likely correlated with county size since larger counties are more likely to have larger irrigated acres."
   ]
  },
  {
   "cell_type": "code",
   "execution_count": 30,
   "id": "a49cc3dd-fb3a-4834-aa98-202a9b32e044",
   "metadata": {},
   "outputs": [],
   "source": [
    "# Maize\n",
    "maize_irr_state = weighted_average(maize_irr_weather_vars, 'GDD')\n",
    "\n",
    "for col in ['EDD', 'tavg', 'prcp', 'prcp2']:\n",
    "    df_tmp = weighted_average(maize_irr_weather_vars, col)\n",
    "    maize_irr_state = pd.merge(maize_irr_state, df_tmp, on=['state', 'year'])\n",
    "    \n",
    "# Soy\n",
    "soy_irr_state = weighted_average(soy_irr_weather_vars, 'GDD')\n",
    "\n",
    "for col in ['EDD', 'tavg', 'prcp', 'prcp2']:\n",
    "    df_tmp = weighted_average(soy_irr_weather_vars, col)\n",
    "    soy_irr_state = pd.merge(soy_irr_state, df_tmp, on=['state', 'year'])"
   ]
  },
  {
   "cell_type": "code",
   "execution_count": 32,
   "id": "387b354c-cf7c-40e9-9e7b-d2a220f93151",
   "metadata": {},
   "outputs": [],
   "source": [
    "# Store\n",
    "maize_irr_state.to_csv('../input_data/gridmet_state_weather_variables_maize_irr_weighted.csv')\n",
    "soy_irr_state.to_csv('../input_data/gridmet_state_weather_variables_soy_irr_weighted.csv')"
   ]
  },
  {
   "cell_type": "code",
   "execution_count": null,
   "id": "0cc8d974-8050-4e34-a0a9-817601cbb80f",
   "metadata": {},
   "outputs": [],
   "source": []
  }
 ],
 "metadata": {
  "kernelspec": {
   "display_name": "Python 3 (ipykernel)",
   "language": "python",
   "name": "python3"
  },
  "language_info": {
   "codemirror_mode": {
    "name": "ipython",
    "version": 3
   },
   "file_extension": ".py",
   "mimetype": "text/x-python",
   "name": "python",
   "nbconvert_exporter": "python",
   "pygments_lexer": "ipython3",
   "version": "3.10.5"
  }
 },
 "nbformat": 4,
 "nbformat_minor": 5
}
