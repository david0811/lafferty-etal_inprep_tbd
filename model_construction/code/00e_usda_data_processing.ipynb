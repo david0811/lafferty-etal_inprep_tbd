{
 "cells": [
  {
   "cell_type": "code",
   "execution_count": 1,
   "id": "75e05f57-2312-48c0-8fb8-9fee4e71894e",
   "metadata": {},
   "outputs": [],
   "source": [
    "import requests\n",
    "import pandas as pd\n",
    "\n",
    "from utils import state_names, state_names_short, state_alphas"
   ]
  },
  {
   "cell_type": "code",
   "execution_count": 1,
   "id": "36ef6df2-fb27-4d24-8f65-7f4624a0a524",
   "metadata": {},
   "outputs": [],
   "source": [
    "usda_api_key = 'YOUR-API-KEY-HERE'\n",
    "fred_api_key = 'YOUR-API-KEY-HERE'"
   ]
  },
  {
   "cell_type": "markdown",
   "id": "e9bdf8ff-b2e8-4802-af68-b1d235423adf",
   "metadata": {
    "jp-MarkdownHeadingCollapsed": true,
    "tags": []
   },
   "source": [
    "## Crop yields"
   ]
  },
  {
   "cell_type": "code",
   "execution_count": 30,
   "id": "7cca5b23-c768-42b7-8cc9-5d8ad284f5df",
   "metadata": {},
   "outputs": [],
   "source": [
    "def get_crop(crop_info, states):\n",
    "    \"\"\"\n",
    "    Downloads county-level yield data from USDA NASS API for 1979 - 2020.\n",
    "    Input: crop_info = dictionary with API request information\n",
    "           states = list of U.S. state abbreviations\n",
    "    Output: pandas dataframe\n",
    "    \"\"\"\n",
    "    # Retain only these columns\n",
    "    retain_cols = ['Value', 'short_desc', 'year', 'county_code', 'state_fips_code']\n",
    "    \n",
    "    # Build API request\n",
    "    request = 'http://quickstats.nass.usda.gov/api/api_GET/?key=' + usda_api_key + '&source_desc=SURVEY&sector_desc=CROPS&group_desc=FIELD CROPS&agg_level_desc=COUNTY&year__GE=1979&year__LE=2020'\n",
    "    for key in crop_info:\n",
    "        request += key + '=' + crop_info[key]\n",
    "    \n",
    "    # Dataframe for results\n",
    "    df_out = pd.DataFrame()\n",
    "\n",
    "    # Loop through states\n",
    "    for state in states:\n",
    "        data = requests.get(request + '&state_alpha=' + state)\n",
    "        if data.status_code == 200:\n",
    "            data = data.json()\n",
    "            data = pd.DataFrame(data[\"data\"])\n",
    "            df_out = pd.concat([df_out, data], ignore_index=True)\n",
    "\n",
    "    return df_out[retain_cols]"
   ]
  },
  {
   "cell_type": "code",
   "execution_count": 31,
   "id": "a50a0713-b21c-483f-a9f8-b9ffa6d348f8",
   "metadata": {},
   "outputs": [],
   "source": [
    "def tidy_yield_area(yield_in, area_in):\n",
    "    \"\"\"\n",
    "    Merge and tidy rainfed yield and area data from USDA API\n",
    "    \"\"\"\n",
    "    yields = yield_in.copy()\n",
    "    areas = area_in.copy()\n",
    "    \n",
    "    # Yield tidy\n",
    "    yields.rename(columns = {'Value':'yield', 'state_fips_code':'state'}, inplace=True)\n",
    "    yields = yields[yields['county_code'] != '998']\n",
    "    yields['fips'] = yields['state'] + yields['county_code']\n",
    "    yields.drop(columns = ['county_code', 'short_desc'], inplace=True)\n",
    "    yields['yield'] = yields['yield'].astype(float)\n",
    "    \n",
    "    # Area tidy\n",
    "    areas.rename(columns = {'Value':'area', 'state_fips_code':'state'}, inplace=True)\n",
    "    areas = areas[areas['county_code'] != '998']\n",
    "    areas['fips'] = areas['state'] + areas['county_code']\n",
    "    areas.drop(columns = ['county_code', 'short_desc'], inplace=True)\n",
    "    areas['area'] = areas['area'].str.replace(',','').astype(float)\n",
    "    \n",
    "    # Merge\n",
    "    return pd.merge(yields.drop_duplicates(subset=['fips','year']),\n",
    "                    areas.drop_duplicates(subset=['fips','year']),\n",
    "                    on = ['fips', 'year', 'state'],\n",
    "                    how='inner')"
   ]
  },
  {
   "cell_type": "code",
   "execution_count": 23,
   "id": "d5a3b2b8-8c82-4ec9-9744-b2278b2b890d",
   "metadata": {},
   "outputs": [
    {
     "name": "stdout",
     "output_type": "stream",
     "text": [
      "CPU times: user 2.54 s, sys: 552 ms, total: 3.09 s\n",
      "Wall time: 3min 10s\n"
     ]
    }
   ],
   "source": [
    "%%time\n",
    "############ Maize ##############\n",
    "maize_yield_request = {'&commodity_desc':'CORN', '&util_practice_desc':'GRAIN', '&statisticcat_desc':'YIELD', '&unit_desc':'BU / ACRE'}\n",
    "maize_area_request = {'&commodity_desc':'CORN', '&util_practice_desc':'GRAIN', '&statisticcat_desc':'AREA HARVESTED'}\n",
    "maize_yield = get_crop(maize_yield_request, state_names_short)\n",
    "maize_area = get_crop(maize_area_request, state_names_short)\n",
    "\n",
    "############## Soy ##############\n",
    "soy_yield_request = {'&commodity_desc':'SOYBEANS', '&statisticcat_desc':'YIELD', '&unit_desc':'BU / ACRE'}\n",
    "soy_area_request = {'&commodity_desc':'SOYBEANS', '&statisticcat_desc':'AREA HARVESTED'}\n",
    "soy_yield = get_crop(soy_yield_request, state_names_short)\n",
    "soy_area = get_crop(soy_area_request, state_names_short)"
   ]
  },
  {
   "cell_type": "code",
   "execution_count": 30,
   "id": "a9aa832d-e35b-43eb-acc2-36ef7a567785",
   "metadata": {},
   "outputs": [
    {
     "name": "stdout",
     "output_type": "stream",
     "text": [
      "(69062, 5) (69006, 5)\n",
      "(50769, 5)\n"
     ]
    }
   ],
   "source": [
    "# Maize\n",
    "print(maize_yield.shape, maize_area.shape)\n",
    "\n",
    "maize_all = tidy_yield_area(maize_yield, maize_area)\n",
    "print(maize_all.shape)\n",
    "\n",
    "maize_all.to_csv('../input_data/usda_maize_yields_1979-2020.csv', index=False)"
   ]
  },
  {
   "cell_type": "code",
   "execution_count": 31,
   "id": "0c83d0c6-e698-4e3a-97a3-aa21c88a99b2",
   "metadata": {},
   "outputs": [
    {
     "name": "stdout",
     "output_type": "stream",
     "text": [
      "(61053, 5) (61044, 5)\n",
      "(46697, 5)\n"
     ]
    }
   ],
   "source": [
    "# Soy\n",
    "print(soy_yield.shape, soy_area.shape)\n",
    "\n",
    "soy_all = tidy_yield_area(soy_yield, soy_area)\n",
    "print(soy_all.shape)\n",
    "\n",
    "soy_all.to_csv('../input_data/usda_soy_yields_1979-2020.csv', index=False)"
   ]
  },
  {
   "cell_type": "code",
   "execution_count": 32,
   "id": "a17576ac-3abc-44b4-bd68-3d5f826e85c2",
   "metadata": {},
   "outputs": [
    {
     "name": "stdout",
     "output_type": "stream",
     "text": [
      "CPU times: user 4.47 s, sys: 1.01 s, total: 5.48 s\n",
      "Wall time: 5min 47s\n"
     ]
    }
   ],
   "source": [
    "%%time\n",
    "############# Maize rainfed vs irrigated ##############\n",
    "maize_yield_nonirr_request = {'&commodity_desc':'CORN', '&util_practice_desc':'GRAIN', '&statisticcat_desc':'YIELD', '&unit_desc':'BU / ACRE', '&prodn_practice_desc':'NON-IRRIGATED'}\n",
    "maize_area_nonirr_request = {'&commodity_desc':'CORN', '&util_practice_desc':'GRAIN', '&statisticcat_desc':'AREA HARVESTED', '&prodn_practice_desc':'NON-IRRIGATED'}\n",
    "maize_yield_nonirr = get_crop(maize_yield_nonirr_request, state_names_short)\n",
    "maize_area_nonirr = get_crop(maize_area_nonirr_request, state_names_short)\n",
    "\n",
    "maize_yield_irr_request = {'&commodity_desc':'CORN', '&util_practice_desc':'GRAIN', '&statisticcat_desc':'YIELD', '&unit_desc':'BU / ACRE', '&prodn_practice_desc':'IRRIGATED'}\n",
    "maize_area_irr_request = {'&commodity_desc':'CORN', '&util_practice_desc':'GRAIN', '&statisticcat_desc':'AREA HARVESTED', '&prodn_practice_desc':'IRRIGATED'}\n",
    "maize_yield_irr = get_crop(maize_yield_irr_request, state_names_short)\n",
    "maize_area_irr = get_crop(maize_area_irr_request, state_names_short)\n",
    "\n",
    "# ############## Soy rainfed vs irrigated ##############\n",
    "soy_yield_nonirr_request = {'&commodity_desc':'SOYBEANS', '&statisticcat_desc':'YIELD', '&unit_desc':'BU / ACRE', '&prodn_practice_desc':'NON-IRRIGATED'}\n",
    "soy_area_nonirr_request = {'&commodity_desc':'SOYBEANS', '&statisticcat_desc':'AREA HARVESTED', '&prodn_practice_desc':'NON-IRRIGATED'}\n",
    "soy_yield_nonirr = get_crop(soy_yield_nonirr_request, state_names_short)\n",
    "soy_area_nonirr = get_crop(soy_area_nonirr_request, state_names_short)\n",
    "\n",
    "soy_yield_irr_request = {'&commodity_desc':'SOYBEANS', '&statisticcat_desc':'YIELD', '&unit_desc':'BU / ACRE', '&prodn_practice_desc':'IRRIGATED'}\n",
    "soy_area_irr_request = {'&commodity_desc':'SOYBEANS', '&statisticcat_desc':'AREA HARVESTED', '&prodn_practice_desc':'IRRIGATED'}\n",
    "soy_yield_irr = get_crop(soy_yield_irr_request, state_names_short)\n",
    "soy_area_irr = get_crop(soy_area_irr_request, state_names_short)"
   ]
  },
  {
   "cell_type": "code",
   "execution_count": 33,
   "id": "ab5630ed-6702-47f8-b6f3-e58e3ff92b78",
   "metadata": {},
   "outputs": [
    {
     "name": "stdout",
     "output_type": "stream",
     "text": [
      "(8024, 5) (8013, 5)\n",
      "(7298, 5)\n",
      "(8422, 5) (8398, 5)\n",
      "(7710, 5)\n"
     ]
    }
   ],
   "source": [
    "# Maize tidy\n",
    "print(maize_yield_irr.shape, maize_area_irr.shape)\n",
    "\n",
    "maize_irr_out = tidy_yield_area(maize_yield_irr, maize_area_irr)\n",
    "print(maize_irr_out.shape)\n",
    "\n",
    "print(maize_yield_nonirr.shape, maize_area_nonirr.shape)\n",
    "\n",
    "maize_nonirr_out = tidy_yield_area(maize_yield_nonirr, maize_area_nonirr)\n",
    "print(maize_nonirr_out.shape)"
   ]
  },
  {
   "cell_type": "code",
   "execution_count": 45,
   "id": "e2d62795-2cfe-4c6f-8ae6-7d290b7773a2",
   "metadata": {},
   "outputs": [],
   "source": [
    "# Merge and store\n",
    "maize_all = pd.merge(maize_irr_out, maize_nonirr_out, on=['fips', 'year', 'state'], suffixes=('_irr','_nonirr'), how='inner')\n",
    "maize_all.to_csv('../input_data/usda_maize_yields_irr_nonirr_1979-2020.csv', index=False)"
   ]
  },
  {
   "cell_type": "code",
   "execution_count": 34,
   "id": "f21cc40c-a2ea-416f-946d-1248690151cb",
   "metadata": {},
   "outputs": [
    {
     "name": "stdout",
     "output_type": "stream",
     "text": [
      "(5755, 5) (5755, 5)\n",
      "(5473, 5)\n",
      "(5861, 5) (5857, 5)\n",
      "(5527, 5)\n"
     ]
    }
   ],
   "source": [
    "# Soy tidy\n",
    "print(soy_yield_irr.shape, soy_area_irr.shape)\n",
    "\n",
    "soy_irr_out = tidy_yield_area(soy_yield_irr, soy_area_irr)\n",
    "print(soy_irr_out.shape)\n",
    "\n",
    "print(soy_yield_nonirr.shape, soy_area_nonirr.shape)\n",
    "\n",
    "soy_nonirr_out = tidy_yield_area(soy_yield_nonirr, soy_area_nonirr)\n",
    "print(soy_nonirr_out.shape)"
   ]
  },
  {
   "cell_type": "code",
   "execution_count": 47,
   "id": "72abaaab-889f-4f6a-bb42-75bdc95a0d08",
   "metadata": {},
   "outputs": [],
   "source": [
    "# Merge and store\n",
    "soy_all = pd.merge(soy_irr_out, soy_nonirr_out, on=['fips', 'year', 'state'], suffixes=('_irr','_nonirr'), how='inner')\n",
    "soy_all.to_csv('../input_data/usda_soy_yields_irr_nonirr_1979-2020.csv', index=False)"
   ]
  },
  {
   "cell_type": "markdown",
   "id": "069a6a48-a80c-46e9-b279-c950cfc917bf",
   "metadata": {
    "jp-MarkdownHeadingCollapsed": true,
    "tags": []
   },
   "source": [
    "## Crop prices"
   ]
  },
  {
   "cell_type": "code",
   "execution_count": 3,
   "id": "65906092-0993-459a-b4d4-ef6d5deb6312",
   "metadata": {},
   "outputs": [],
   "source": [
    "def tidy_prices(prices_in):\n",
    "    \"\"\"\n",
    "    Tidies national historical crop prices from USDA NASS API\n",
    "    \"\"\"\n",
    "    # Output will be pandas dataframe\n",
    "    prices_in = prices_in.json()\n",
    "    df_out = pd.DataFrame(prices_in['data'])\n",
    "    \n",
    "    # Annual prices\n",
    "    df_out = df_out[df_out['reference_period_desc'] == 'MARKETING YEAR']\n",
    "    \n",
    "    # Rename and select final columns\n",
    "    df_out['value'] = df_out['Value'].apply(lambda x: float(x))\n",
    "    df_out.rename(columns = {'value':'price', 'state_fips_code':'state'}, inplace=True)\n",
    "    \n",
    "    return df_out[['year', 'price']]"
   ]
  },
  {
   "cell_type": "code",
   "execution_count": 4,
   "id": "5d1f54ee-200f-4c44-b509-9efac5680d59",
   "metadata": {},
   "outputs": [],
   "source": [
    "# Maize\n",
    "maize_price = requests.get('http://quickstats.nass.usda.gov/api/api_GET/?key=' + usda_api_key + '&source_desc=SURVEY&sector_desc=CROPS&group_desc=FIELD CROPS&commodity_desc=CORN' + \n",
    "                            '&statisticcat_desc=PRICE RECEIVED&unit_desc=$ / BU&agg_level_desc=NATIONAL&year__GE=1948&year__LE=2016')\n",
    "maize_price = tidy_prices(maize_price)\n",
    "\n",
    "# Soy \n",
    "soy_price = requests.get('http://quickstats.nass.usda.gov/api/api_GET/?key=' + usda_api_key + '&source_desc=SURVEY&sector_desc=CROPS&group_desc=FIELD CROPS&commodity_desc=CORN' + \n",
    "                            '&statisticcat_desc=PRICE RECEIVED&unit_desc=$ / BU&agg_level_desc=NATIONAL&year__GE=1948&year__LE=2016')\n",
    "soy_price = tidy_prices(soy_price)"
   ]
  },
  {
   "cell_type": "code",
   "execution_count": 110,
   "id": "04c21dd6-3456-47c9-99fe-31c407df4080",
   "metadata": {},
   "outputs": [],
   "source": [
    "############################\n",
    "# Deflate with PPI data\n",
    "############################"
   ]
  },
  {
   "cell_type": "code",
   "execution_count": 6,
   "id": "098eb3ad-4e79-4221-aae0-2758e76fb2c7",
   "metadata": {},
   "outputs": [],
   "source": [
    "##### Producer Price Index by Commodity: Farm Products\n",
    "##### Index 1982=100\n",
    "##### Not Seasonally Adjusted \n",
    "##### https://fred.stlouisfed.org/series/WPU01\n",
    "\n",
    "# HTTP request from STL FRED\n",
    "data = requests.get('https://api.stlouisfed.org/fred/series/observations?series_id=WPU01&api_key=' + fred_api_key + '&file_type=json')\n",
    "data = data.json()\n",
    "\n",
    "# Pandas dataframe\n",
    "ppi = pd.DataFrame(data['observations'])[['date','value']]\n",
    "ppi['year'] = pd.to_datetime(ppi['date'])\n",
    "ppi['value'] = ppi['value'].astype(float)\n",
    "\n",
    "# We use annual prices\n",
    "ppi_annual = ppi.set_index('year').resample('1Y').mean()\n",
    "ppi_annual.rename(columns={'value':'ppi'}, inplace=True)\n",
    "ppi_annual.index = ppi_annual.index.year"
   ]
  },
  {
   "cell_type": "code",
   "execution_count": 7,
   "id": "a71aacb6-827f-421e-aba6-90a68d9ad403",
   "metadata": {},
   "outputs": [],
   "source": [
    "# Merge prices and adjust for inflation (set to 2018 USD)\n",
    "ppi_2018 = ppi_annual.loc[2018]['ppi']\n",
    "\n",
    "# Maize\n",
    "maize_ppi = pd.merge(maize_price, ppi_annual.reset_index(), on='year', how='inner')\n",
    "maize_ppi['price_ppi'] = maize_ppi['price'] / maize_ppi['ppi'] * ppi_2018\n",
    "maize_ppi = maize_ppi.sort_values(by='year')\n",
    "\n",
    "# Soy\n",
    "soy_ppi = pd.merge(soy_price, ppi_annual.reset_index(), on='year', how='inner')\n",
    "soy_ppi['price_ppi'] = soy_ppi['price'] / soy_ppi['ppi'] * ppi_2018\n",
    "soy_ppi = soy_ppi.sort_values(by='year')"
   ]
  },
  {
   "cell_type": "code",
   "execution_count": 8,
   "id": "e46a2ae3-6497-4300-9a5b-d25b5208905e",
   "metadata": {},
   "outputs": [],
   "source": [
    "# Store\n",
    "maize_ppi[['year', 'price', 'price_ppi']].to_csv('../input_data/usda_maize_prices_deflated_1948-2016.csv', index=False)\n",
    "soy_ppi[['year', 'price', 'price_ppi']].to_csv('../input_data/usda_soy_prices_deflated_1948-2016.csv', index=False)"
   ]
  },
  {
   "cell_type": "markdown",
   "id": "5ebb0d6d-e22f-4b70-9c22-3317c731f948",
   "metadata": {
    "jp-MarkdownHeadingCollapsed": true,
    "tags": []
   },
   "source": [
    "## Irrigation: Water applied (maize & soy)"
   ]
  },
  {
   "cell_type": "code",
   "execution_count": 197,
   "id": "82e2a938-7ac3-490e-a868-3d60b8ea581e",
   "metadata": {},
   "outputs": [],
   "source": [
    "def get_crop_water_applied(crop_name, states):\n",
    "    \"\"\"\n",
    "    Downloads state-level irrigation data (water applied) from USDA NASS API for 2013, 2018.\n",
    "    \"\"\"\n",
    "    # Retain only these columns\n",
    "    retain_cols = ['Value', 'short_desc', 'year', 'state_fips_code', 'state_name']\n",
    "    \n",
    "    # Build API request\n",
    "    request = 'http://quickstats.nass.usda.gov/api/api_GET/?key=' + usda_api_key + '&source_desc=CENSUS&sector_desc=CROPS&group_desc=FIELD CROPS&agg_level_desc=STATE&commodity_desc=' + crop_name + '&statisticcat_desc=WATER APPLIED&unit_desc=ACRE FEET / ACRE&domain_desc=TOTAL'\n",
    "    \n",
    "    # Dataframe for results\n",
    "    df_out = pd.DataFrame()\n",
    "\n",
    "    # Loop through states\n",
    "    for state in states:\n",
    "        data = requests.get(request + '&state_alpha=' + state)\n",
    "        if data.status_code == 200:\n",
    "            data = data.json()\n",
    "            data = pd.DataFrame(data[\"data\"])\n",
    "            df_out = pd.concat([df_out, data], ignore_index=True)\n",
    "\n",
    "    return df_out[retain_cols]"
   ]
  },
  {
   "cell_type": "code",
   "execution_count": 192,
   "id": "2e2b03fb-8953-445e-b8e6-b83a67fc85ae",
   "metadata": {},
   "outputs": [
    {
     "name": "stdout",
     "output_type": "stream",
     "text": [
      "CPU times: user 750 ms, sys: 32.5 ms, total: 782 ms\n",
      "Wall time: 13.1 s\n"
     ]
    }
   ],
   "source": [
    "%%time\n",
    "# Maize\n",
    "maize_irr = get_crop_water_applied('CORN', state_names_short)\n",
    "\n",
    "# Soy\n",
    "soy_irr = get_crop_water_applied('SOYBEANS', state_names_short)"
   ]
  },
  {
   "cell_type": "code",
   "execution_count": 193,
   "id": "ea82bafd-d04a-4948-adf1-28936cedfa2e",
   "metadata": {},
   "outputs": [],
   "source": [
    "#################\n",
    "# Tidy and store\n",
    "#################\n",
    "\n",
    "retain_cols = ['year', 'state_fips_code', 'state_name', 'water_applied']\n",
    "\n",
    "# Maize\n",
    "maize_irr = maize_irr[maize_irr['short_desc'] == 'CORN, GRAIN, IRRIGATED - WATER APPLIED, MEASURED IN ACRE FEET / ACRE'] # subset grain for maize\n",
    "maize_irr['Value'] = maize_irr['Value'].astype(float) * 304.8 # acre-feet/acre -> mm/acre\n",
    "maize_irr.rename(columns = {'Value' : 'water_applied'}, inplace=True)\n",
    "maize_irr[retain_cols].to_csv('../input_data/usda_maize_water_applied_2013-2018.csv', index=False)\n",
    "\n",
    "# Soy\n",
    "soy_irr['Value'] = soy_irr['Value'].astype(float) * 304.8 # acre-feet/acre -> mm/acre\n",
    "soy_irr.rename(columns = {'Value' : 'water_applied'}, inplace=True)\n",
    "soy_irr[retain_cols].to_csv('../input_data/usda_soy_water_applied_2013-2018.csv', index=False)"
   ]
  },
  {
   "cell_type": "markdown",
   "id": "0aaa8e13-c884-4c78-9d8c-0902dd61153d",
   "metadata": {
    "jp-MarkdownHeadingCollapsed": true,
    "tags": []
   },
   "source": [
    "## Irrigation: Acres harvested"
   ]
  },
  {
   "cell_type": "code",
   "execution_count": null,
   "id": "27f2843f-7aee-4aa8-b0e4-96dcb0d07634",
   "metadata": {},
   "outputs": [],
   "source": [
    "def get_crop_irr_area(crop_name, states):\n",
    "    \"\"\"\n",
    "    Downloads county-level irrigated acreage data from USDA NASS API\n",
    "    \"\"\"\n",
    "    # Retain only these columns\n",
    "    retain_cols = ['Value', 'short_desc', 'year', 'county_code', 'state_fips_code']\n",
    "    \n",
    "    # Build API request\n",
    "    request = 'http://quickstats.nass.usda.gov/api/api_GET/?key=' + usda_api_key + '&source_desc=CENSUS&sector_desc=CROPS&group_desc=FIELD CROPS&agg_level_desc=COUNTY&commodity_desc=' + crop_name + '&prodn_practice_desc=IRRIGATED&statisticcat_desc=AREA HARVESTED'\n",
    "    if crop_name == 'CORN':\n",
    "        request += '&util_practice_desc=GRAIN'\n",
    "    # Dataframe for results\n",
    "    df_out = pd.DataFrame()\n",
    "\n",
    "    # Loop through states\n",
    "    for state in states:\n",
    "        data = requests.get(request + '&state_alpha=' + state)\n",
    "        if data.status_code == 200:\n",
    "            data = data.json()\n",
    "            data = pd.DataFrame(data[\"data\"])\n",
    "            df_out = pd.concat([df_out, data], ignore_index=True)\n",
    "\n",
    "    return df_out[retain_cols]"
   ]
  },
  {
   "cell_type": "code",
   "execution_count": null,
   "id": "d2845c29-a30e-4534-9af5-2b953642bf89",
   "metadata": {},
   "outputs": [
    {
     "name": "stdout",
     "output_type": "stream",
     "text": [
      "CPU times: user 1.4 s, sys: 342 ms, total: 1.75 s\n",
      "Wall time: 1min 49s\n"
     ]
    }
   ],
   "source": [
    "%%time\n",
    "# Maize\n",
    "maize_irr = get_crop_irr_area('CORN', state_names_short)\n",
    "\n",
    "# Soy\n",
    "soy_irr = get_crop_irr_area('SOYBEANS', state_names_short)"
   ]
  },
  {
   "cell_type": "code",
   "execution_count": 11,
   "id": "84e5783e-478c-445f-8ca1-b74590ff2f7e",
   "metadata": {},
   "outputs": [],
   "source": [
    "def str_to_float_with_excp(x):\n",
    "    try:\n",
    "        return float(x)\n",
    "    except:\n",
    "        return 0.0\n",
    "    \n",
    "def tidy_irr_area(irr_in):\n",
    "    \"\"\"\n",
    "    Tidy irrigated acreage data from USDA API\n",
    "    \"\"\"\n",
    "    irr = irr_in.copy()\n",
    "    \n",
    "    # Yield tidy\n",
    "    irr.rename(columns = {'Value':'irrigated_acreage', 'state_fips_code':'state'}, inplace=True)\n",
    "    irr = irr[irr['county_code'] != '998']\n",
    "    irr['fips'] = irr['state'] + irr['county_code']\n",
    "    irr.drop(columns = ['county_code', 'short_desc'], inplace=True)\n",
    "    irr['irrigated_acreage'] = irr['irrigated_acreage'].apply(lambda x: str_to_float_with_excp(x))\n",
    "    \n",
    "    return irr"
   ]
  },
  {
   "cell_type": "code",
   "execution_count": 17,
   "id": "4c925653-e27b-4251-bbf1-12847c11b82d",
   "metadata": {},
   "outputs": [
    {
     "name": "stdout",
     "output_type": "stream",
     "text": [
      "(8876, 5)\n",
      "(8876, 4)\n"
     ]
    }
   ],
   "source": [
    "# Maize\n",
    "print(maize_irr.shape)\n",
    "\n",
    "maize_irr_out = tidy_irr_area(maize_irr)\n",
    "print(maize_irr_out.shape)\n",
    "\n",
    "maize_irr_out.to_csv('../input_data/usda_maize_irrigated_acres_1997-2017.csv', index=False)"
   ]
  },
  {
   "cell_type": "code",
   "execution_count": 18,
   "id": "c33de9a1-7443-4928-a78d-a5575728b0fd",
   "metadata": {},
   "outputs": [
    {
     "name": "stdout",
     "output_type": "stream",
     "text": [
      "(7610, 5)\n",
      "(7610, 4)\n"
     ]
    }
   ],
   "source": [
    "# Soy\n",
    "print(soy_irr.shape)\n",
    "\n",
    "soy_irr_out = tidy_irr_area(soy_irr)\n",
    "print(soy_irr_out.shape)\n",
    "\n",
    "soy_irr_out.to_csv('../input_data/usda_soy_irrigated_acres_1997-2017.csv', index=False)"
   ]
  },
  {
   "cell_type": "markdown",
   "id": "4b06c595-f3c5-4fc8-bb9c-a2c8ea504410",
   "metadata": {
    "jp-MarkdownHeadingCollapsed": true,
    "tags": []
   },
   "source": [
    "## Irrigation: infrastructure expenses"
   ]
  },
  {
   "cell_type": "code",
   "execution_count": 181,
   "id": "c09ba137-42b7-4208-9dcc-fea701ac604f",
   "metadata": {},
   "outputs": [],
   "source": [
    "def get_irr_expenses(states):\n",
    "    \"\"\"\n",
    "    Downloads state-level new irrigation equipment costs from USDA NASS API\n",
    "    \"\"\"\n",
    "    # Retain only these columns\n",
    "    retain_cols = ['Value', 'short_desc', 'year', 'state_fips_code', 'state_name', 'domaincat_desc']\n",
    "    \n",
    "    # Build API request\n",
    "    request = 'http://quickstats.nass.usda.gov/api/api_GET/?key=' + usda_api_key\n",
    "    \n",
    "    add_info = {'&source_desc':'CENSUS',\n",
    "                '&sector_desc':'ECONOMICS',\n",
    "                '&group_desc':'IRRIGATION',\n",
    "                '&agg_level_desc':'STATE',\n",
    "                '&commodity_desc':'FACILITIES %26 EQUIPMENT'}\n",
    "\n",
    "\n",
    "    for key in add_info:\n",
    "        request += key + '=' + add_info[key]\n",
    "\n",
    "    # Dataframe for results\n",
    "    df_out = pd.DataFrame()\n",
    "\n",
    "    # Loop through states\n",
    "    for state in states:\n",
    "        data = requests.get(request + '&state_alpha=' + state)\n",
    "        if data.status_code == 200:\n",
    "            data = data.json()\n",
    "            data = pd.DataFrame(data[\"data\"])\n",
    "            df_out = pd.concat([df_out, data], ignore_index=True)\n",
    "\n",
    "    return df_out[retain_cols]"
   ]
  },
  {
   "cell_type": "code",
   "execution_count": 182,
   "id": "f7898e3e-4e2f-4acd-87f2-049edc2b5cb4",
   "metadata": {},
   "outputs": [
    {
     "name": "stdout",
     "output_type": "stream",
     "text": [
      "CPU times: user 534 ms, sys: 28.5 ms, total: 563 ms\n",
      "Wall time: 15.6 s\n"
     ]
    }
   ],
   "source": [
    "%%time\n",
    "irr_expenses = get_irr_expenses(state_names_short)"
   ]
  },
  {
   "cell_type": "markdown",
   "id": "85e097ba-0261-4be8-8dce-338abb7eee23",
   "metadata": {},
   "source": [
    "### Expenses associated with new expansion"
   ]
  },
  {
   "cell_type": "code",
   "execution_count": 263,
   "id": "b1ce6ca1-a726-44d2-a607-12db9e190962",
   "metadata": {},
   "outputs": [],
   "source": [
    "# Filter new expansion\n",
    "irr_expenses_new = irr_expenses[irr_expenses['domaincat_desc'] == 'EXPENSE, PRIMARY PURPOSE: (NEW EXPANSION)']\n",
    "\n",
    "# The category 'land clearing & levelling for new irrigation acreage' is classified differently so add manually:\n",
    "land_clearing_new_acres = irr_expenses[(irr_expenses['short_desc'] == 'FACILITIES & EQUIPMENT, IRRIGATION, LAND CLEARING & LEVELING FOR NEW IRRIGATION ACREAGE - ACRES IRRIGATED')\n",
    "                                       & (irr_expenses['domaincat_desc'] == 'EXPENSE: (ANY)')]\n",
    "\n",
    "land_clearing_new_expense = irr_expenses[(irr_expenses['short_desc'] == 'FACILITIES & EQUIPMENT, IRRIGATION, LAND CLEARING & LEVELING FOR NEW IRRIGATION ACREAGE - EXPENSE, MEASURED IN $')]\n",
    "\n",
    "irr_expenses_new = pd.concat([irr_expenses_new, land_clearing_new_acres, land_clearing_new_expense])"
   ]
  },
  {
   "cell_type": "code",
   "execution_count": 264,
   "id": "bc3f7e20-f6e1-493b-bd3e-dfab3b725fe4",
   "metadata": {},
   "outputs": [],
   "source": [
    "# We want expenses per acre for each category\n",
    "def get_categories(x):\n",
    "    # Remove extraneous details\n",
    "    out =  x.replace('FACILITIES & EQUIPMENT, IRRIGATION', '').replace(' - ', '').replace('ACRES IRRIGATED', '').replace('EXPENSE, MEASURED IN $', '').replace(', ', '')\n",
    "    # There is one row that includes the average over all\n",
    "    if out == '':\n",
    "        out = 'ALL'\n",
    "    return out\n",
    "\n",
    "def get_units(x):\n",
    "    # Remove extraneous details\n",
    "    return x[-15:].replace(', ', '')\n",
    "\n",
    "irr_expenses_new['category'] = irr_expenses_new['short_desc'].apply(lambda x: get_categories(x))\n",
    "irr_expenses_new['units'] = irr_expenses_new['short_desc'].apply(lambda x: get_units(x))"
   ]
  },
  {
   "cell_type": "code",
   "execution_count": 265,
   "id": "2731077b-7485-497a-95e6-b3a2ca4868c6",
   "metadata": {},
   "outputs": [],
   "source": [
    "# Tidy\n",
    "def str_to_float(x):\n",
    "    if type(x) == str:\n",
    "        return float(x.replace(',', '').replace('-', 'NaN').replace('(D)', 'NaN').rstrip())\n",
    "    else:\n",
    "        return x\n",
    "    \n",
    "    \n",
    "irr_expenses_new = irr_expenses_new[['Value', 'year', 'state_fips_code', 'category', 'units']]\n",
    "irr_expenses_new['Value'] = irr_expenses_new['Value'].apply(str_to_float)"
   ]
  },
  {
   "cell_type": "code",
   "execution_count": 266,
   "id": "dd25b9b1-411a-493a-9198-7a8b45853471",
   "metadata": {},
   "outputs": [],
   "source": [
    "# Get expenses per acre and sum \n",
    "irr_expenses_new = pd.pivot(irr_expenses_new.set_index(['state_fips_code', 'year', 'category']), columns='units', values='Value').reset_index()\n",
    "irr_expenses_new = irr_expenses_new.groupby(['state_fips_code', 'year', 'category']).apply(lambda x: x['MEASURED IN $'] / x['ACRES IRRIGATED'])\n",
    "irr_expenses_new = pd.DataFrame({'cost_per_acre' : irr_expenses_new}).reset_index()\n",
    "irr_expenses_new = irr_expenses_new[irr_expenses_new['category'] != 'ALL'].groupby(['state_fips_code', 'year']).sum().drop(columns='level_3')"
   ]
  },
  {
   "cell_type": "code",
   "execution_count": 267,
   "id": "35ac750d-dbd5-4f07-bdc0-cfa9d1b5e7cb",
   "metadata": {},
   "outputs": [],
   "source": [
    "# Store\n",
    "irr_expenses_new.to_csv('../input_data/usda_irrigation_expansion_cost_2013-2018.csv')"
   ]
  },
  {
   "cell_type": "markdown",
   "id": "b2da3430-c3d3-4663-8e23-e8295b960e88",
   "metadata": {},
   "source": [
    "### Expenses associated with maintenance"
   ]
  },
  {
   "cell_type": "code",
   "execution_count": 201,
   "id": "2c1d5fcd-b749-4ee5-aff1-733af23bf31e",
   "metadata": {},
   "outputs": [],
   "source": [
    "# to do\n",
    "irr_expenses_maint = irr_expenses[irr_expenses['domaincat_desc'] == 'EXPENSE, PRIMARY PURPOSE: (SCHEDULED REPLACEMENT OR MAINTENANCE)']"
   ]
  },
  {
   "cell_type": "markdown",
   "id": "ed8e8c4e-beff-4e81-bc8e-0bf91002f57d",
   "metadata": {
    "jp-MarkdownHeadingCollapsed": true,
    "tags": []
   },
   "source": [
    "## Irrigation: application expenses"
   ]
  },
  {
   "cell_type": "code",
   "execution_count": 16,
   "id": "4825703c-698d-45d5-b7f8-72388904a4b0",
   "metadata": {},
   "outputs": [],
   "source": [
    "def get_irrapp_expenses(states):\n",
    "    \"\"\"\n",
    "    Downloads state-level new irrigation equipment costs from USDA NASS API\n",
    "    \"\"\"\n",
    "    # Retain only these columns\n",
    "    retain_cols = ['Value', 'short_desc', 'year', 'state_fips_code', 'state_name', 'domaincat_desc']\n",
    "    \n",
    "    # Build API request\n",
    "    request = 'http://quickstats.nass.usda.gov/api/api_GET/?key=' + usda_api_key\n",
    "    \n",
    "    add_info = {'&source_desc':'CENSUS',\n",
    "                '&sector_desc':'ECONOMICS',\n",
    "                '&group_desc':'IRRIGATION',\n",
    "                '&agg_level_desc':'STATE',\n",
    "                '&commodity_desc':'ENERGY', \n",
    "                '&statisticcat_desc':'EXPENSE'}\n",
    "\n",
    "    for key in add_info:\n",
    "        request += key + '=' + add_info[key]\n",
    "\n",
    "    # Dataframe for results\n",
    "    df_out = pd.DataFrame()\n",
    "\n",
    "    # Loop through states\n",
    "    for state in states:\n",
    "        data = requests.get(request + '&state_alpha=' + state)\n",
    "        if data.status_code == 200:\n",
    "            data = data.json()\n",
    "            data = pd.DataFrame(data[\"data\"])\n",
    "            df_out = pd.concat([df_out, data], ignore_index=True)\n",
    "\n",
    "    return df_out[retain_cols]"
   ]
  },
  {
   "cell_type": "code",
   "execution_count": 24,
   "id": "fd8f1a0e-185c-456a-8782-8afb839f7fe6",
   "metadata": {},
   "outputs": [
    {
     "name": "stdout",
     "output_type": "stream",
     "text": [
      "CPU times: user 480 ms, sys: 77.6 ms, total: 558 ms\n",
      "Wall time: 6.64 s\n"
     ]
    }
   ],
   "source": [
    "%%time\n",
    "irrapp_expenses = get_irrapp_expenses(state_names_short)"
   ]
  },
  {
   "cell_type": "code",
   "execution_count": 25,
   "id": "af9fec58-4aaf-4fb7-8611-2e9e775cb9f0",
   "metadata": {},
   "outputs": [],
   "source": [
    "# Subset to cost per acre when using electrcity (dominant energy source)\n",
    "irrapp_expenses = irrapp_expenses[irrapp_expenses['short_desc'] == 'ENERGY, IRRIGATION, ON FARM PUMPING, ELECTRICITY, IN THE OPEN ONLY - EXPENSE, MEASURED IN $ / ACRE IRRIGATED']\n",
    "\n",
    "# Subset to groundwater only\n",
    "irrapp_expenses = irrapp_expenses[irrapp_expenses['domaincat_desc'] == 'WATER SOURCE: (GROUND ONLY)']"
   ]
  },
  {
   "cell_type": "code",
   "execution_count": 26,
   "id": "f3a4670c-1bf4-42eb-a4cc-d3ff5c771f1e",
   "metadata": {},
   "outputs": [],
   "source": [
    "# Tidy\n",
    "def str_to_float(x):\n",
    "    if type(x) == str:\n",
    "        return float(x.replace(',', '').replace('-', 'NaN').replace('(D)', 'NaN').rstrip())\n",
    "    else:\n",
    "        return x\n",
    "    \n",
    "    \n",
    "irrapp_expenses = irrapp_expenses[['Value', 'year', 'state_fips_code', 'state_name']].copy()\n",
    "irrapp_expenses['Value'] = irrapp_expenses['Value'].apply(str_to_float)\n",
    "irrapp_expenses.rename(columns = {'Value' : 'irr_app_cost_per_acre'}, inplace=True)"
   ]
  },
  {
   "cell_type": "code",
   "execution_count": 27,
   "id": "88a60c43-9c02-4408-bc0b-a632bb34e7a1",
   "metadata": {},
   "outputs": [],
   "source": [
    "# Store\n",
    "irrapp_expenses.to_csv('../input_data/usda_irrigation_application_cost_per_acre_2013-2018.csv', index=False)"
   ]
  },
  {
   "cell_type": "markdown",
   "id": "3dfc3b9c-1fa2-4781-a1cc-4d4dcfb93eb3",
   "metadata": {
    "tags": []
   },
   "source": [
    "## Irrigation: water applied (all crops)"
   ]
  },
  {
   "cell_type": "code",
   "execution_count": 7,
   "id": "cb751f6c-d9cc-40ab-a5d1-ac5dc4dd07d5",
   "metadata": {},
   "outputs": [],
   "source": [
    "# Read in USDA data downloaded from 00c_usda_fris_wget.sh\n",
    "df_2013 = pd.read_csv('../input_data/usda_water_applied_2013.csv', sep=',', skiprows=3, header=1)\n",
    "df_2018 = pd.read_csv('../input_data/usda_water_applied_2018.csv', sep=',', skiprows=3, header=1)"
   ]
  },
  {
   "cell_type": "code",
   "execution_count": 8,
   "id": "c145b63f-331b-4107-b534-f34ef718138f",
   "metadata": {},
   "outputs": [],
   "source": [
    "# Select relevant column: Average acre-feet applied from groundwater\n",
    "df_2018 = df_2018[['Unnamed: 2', 'Ground water from wells.5']].copy()\n",
    "df_2018 = df_2018.rename(columns = {'Unnamed: 2':'state_name', 'Ground water from wells.5': 'water_applied_per_acre'})\n",
    "\n",
    "df_2013 = df_2013[['Unnamed: 2', 'Ground water from wells.5']].copy()\n",
    "df_2013 = df_2013.rename(columns = {'Unnamed: 2':'state_name', 'Ground water from wells.5': 'water_applied_per_acre'})\n",
    "\n",
    "# Subset Midwest\n",
    "df_2018_mw = df_2018[df_2018['state_name'].isin(state_names)]\n",
    "df_2018_mw.insert(0, 'year', 2018)\n",
    "\n",
    "df_2013_mw = df_2013[df_2013['state_name'].isin(state_names)]\n",
    "df_2013_mw.insert(0, 'year', 2013)"
   ]
  },
  {
   "cell_type": "code",
   "execution_count": 9,
   "id": "f3c69cf6-9982-4105-ab0e-8fe8844db8ac",
   "metadata": {},
   "outputs": [],
   "source": [
    "# Join and store\n",
    "df_out = pd.concat([df_2018_mw, df_2013_mw])\n",
    "df_out['water_applied_per_acre'] = df_out['water_applied_per_acre'].astype(float) * 304.8 # feet -> mm\n",
    "\n",
    "df_out.to_csv('../input_data/usda_water_applied_2013-2018_tidy.csv')"
   ]
  },
  {
   "cell_type": "code",
   "execution_count": null,
   "id": "0040ad7a-2974-44fe-8bb1-7fa708c9070c",
   "metadata": {},
   "outputs": [],
   "source": []
  }
 ],
 "metadata": {
  "kernelspec": {
   "display_name": "Python 3 (ipykernel)",
   "language": "python",
   "name": "python3"
  },
  "language_info": {
   "codemirror_mode": {
    "name": "ipython",
    "version": 3
   },
   "file_extension": ".py",
   "mimetype": "text/x-python",
   "name": "python",
   "nbconvert_exporter": "python",
   "pygments_lexer": "ipython3",
   "version": "3.10.5"
  }
 },
 "nbformat": 4,
 "nbformat_minor": 5
}
